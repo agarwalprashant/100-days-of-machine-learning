{
 "cells": [
  {
   "cell_type": "markdown",
   "id": "d24c6e7f",
   "metadata": {},
   "source": [
    "1. Basic Random Numbers (0 se 1 ke beech mein):\n",
    "\n",
    "  import numpy as np\n",
    "\n",
    "  # Single random number (0 to 1)\n",
    "  random_num = np.random.random()\n",
    "  print(f\"Single random: {random_num}\")\n",
    "\n",
    "  # Multiple random numbers\n",
    "  random_array = np.random.random(5)  # 5 random numbers\n",
    "  print(f\"Array of randoms: {random_array}\")\n",
    "\n",
    "  # 2D array of random numbers\n",
    "  random_2d = np.random.random((3, 4))  # 3x4 matrix\n",
    "  print(f\"2D random array:\\n{random_2d}\")\n",
    "\n",
    "  Ye np.random.random() function 0 se 1 ke beech mein floating point numbers generate karta hai. Har call par different\n",
    "  numbers milte hain."
   ]
  },
  {
   "cell_type": "markdown",
   "id": "84e54dea",
   "metadata": {},
   "source": []
  },
  {
   "cell_type": "markdown",
   "id": "b2eb3370",
   "metadata": {},
   "source": [
    "2. Random Integers Generate Karna:\n",
    "\n",
    "  # Random integers between low and high (high exclusive)\n",
    "  random_int = np.random.randint(1, 10)  # 1 se 9 tak\n",
    "  print(f\"Single random integer: {random_int}\")\n",
    "\n",
    "  # Multiple random integers\n",
    "  random_ints = np.random.randint(1, 10, size=5)  # 5 integers\n",
    "  print(f\"Array of random integers: {random_ints}\")\n",
    "\n",
    "  # 2D array of random integers\n",
    "  random_2d_ints = np.random.randint(0, 100, size=(3, 3))  # 3x3 matrix\n",
    "  print(f\"2D random integers:\\n{random_2d_ints}\")\n",
    "\n",
    "  # High value include karna ho to:\n",
    "  random_inclusive = np.random.randint(1, 11)  # 1 se 10 tak (10 included)\n",
    "\n",
    "  randint() function mein pehla parameter minimum value hai, doosra maximum (exclusive), aur size se kitne numbers chahiye\n",
    "  wo specify karte hain."
   ]
  },
  {
   "cell_type": "markdown",
   "id": "9ee72c42",
   "metadata": {},
   "source": []
  },
  {
   "cell_type": "markdown",
   "id": "eadef918",
   "metadata": {},
   "source": [
    "3. Special Distributions aur Range-based Random Numbers:\n",
    "\n",
    "  # Uniform distribution (specific range mein)\n",
    "  uniform_nums = np.random.uniform(5, 15, size=5)  # 5 se 15 ke beech\n",
    "  print(f\"Uniform distribution: {uniform_nums}\")\n",
    "\n",
    "  # Normal/Gaussian distribution\n",
    "  normal_nums = np.random.normal(0, 1, size=5)  # mean=0, std=1\n",
    "  print(f\"Normal distribution: {normal_nums}\")\n",
    "\n",
    "  # Random floats in specific range\n",
    "  float_range = np.random.uniform(low=10.5, high=20.7, size=3)\n",
    "  print(f\"Float range: {float_range}\")\n",
    "\n",
    "  # Exponential distribution\n",
    "  exp_nums = np.random.exponential(scale=2, size=4)\n",
    "  print(f\"Exponential: {exp_nums}\")\n",
    "\n",
    "  Ye functions different mathematical distributions follow karte hain:\n",
    "  - uniform(): Equal probability har value ka\n",
    "  - normal(): Bell curve (Gaussian) distribution\n",
    "  - exponential(): Exponentially decreasing probability"
   ]
  },
  {
   "cell_type": "markdown",
   "id": "dc3ceb89",
   "metadata": {},
   "source": []
  },
  {
   "cell_type": "markdown",
   "id": "3a5771c4",
   "metadata": {},
   "source": [
    "4. Random Sampling aur Choice Methods:\n",
    "\n",
    "  # Existing array se random elements choose karna\n",
    "  fruits = ['apple', 'banana', 'orange', 'mango', 'grapes']\n",
    "  random_fruit = np.random.choice(fruits)\n",
    "  print(f\"Random fruit: {random_fruit}\")\n",
    "\n",
    "  # Multiple choices (with replacement)\n",
    "  random_fruits = np.random.choice(fruits, size=3)\n",
    "  print(f\"Multiple fruits: {random_fruits}\")\n",
    "\n",
    "  # Without replacement (unique elements)\n",
    "  unique_fruits = np.random.choice(fruits, size=3, replace=False)\n",
    "  print(f\"Unique fruits: {unique_fruits}\")\n",
    "\n",
    "  # Array shuffle karna (in-place)\n",
    "  numbers = np.array([1, 2, 3, 4, 5, 6])\n",
    "  np.random.shuffle(numbers)  # Original array modify ho jata hai\n",
    "  print(f\"Shuffled array: {numbers}\")\n",
    "\n",
    "  # Permutation (new shuffled copy)\n",
    "  original = np.array([10, 20, 30, 40])\n",
    "  permuted = np.random.permutation(original)  # Original unchanged\n",
    "  print(f\"Original: {original}\")\n",
    "  print(f\"Permuted: {permuted}\")\n",
    "\n",
    "  choice() existing data se random selection ke liye use hota hai, shuffle() array ko mix kar deta hai, aur permutation()\n",
    "  shuffled copy banata hai."
   ]
  },
  {
   "cell_type": "markdown",
   "id": "4e5ac9e3",
   "metadata": {},
   "source": []
  },
  {
   "cell_type": "markdown",
   "id": "17a64ea4",
   "metadata": {},
   "source": [
    "5. Random Seed - Reproducible Results ke liye:\n",
    "\n",
    "  # Seed set karna - same results har time\n",
    "  np.random.seed(42)  # 42 is just an example number\n",
    "  print(\"First run with seed 42:\")\n",
    "  print(np.random.random(3))\n",
    "\n",
    "  # Same seed, same results\n",
    "  np.random.seed(42)\n",
    "  print(\"Second run with same seed:\")\n",
    "  print(np.random.random(3))  # Same numbers as above!\n",
    "\n",
    "  # Different seed = different results\n",
    "  np.random.seed(100)\n",
    "  print(\"Different seed (100):\")\n",
    "  print(np.random.random(3))\n",
    "\n",
    "  # Modern way (NumPy 1.17+)\n",
    "  rng = np.random.default_rng(seed=42)  # Generator object\n",
    "  print(\"Using Generator:\")\n",
    "  print(rng.random(3))"
   ]
  },
  {
   "cell_type": "markdown",
   "id": "98814d41",
   "metadata": {},
   "source": []
  },
  {
   "cell_type": "markdown",
   "id": "92cd60f7",
   "metadata": {},
   "source": [
    "Summary - NumPy Random Methods:\n",
    "\n",
    "  1. Basic: random() - 0 to 1 floats\n",
    "  2. Integers: randint() - specific range mein integers\n",
    "  3. Distributions: uniform(), normal(), exponential()\n",
    "  4. Sampling: choice(), shuffle(), permutation()\n",
    "  5. Reproducibility: seed() ya default_rng()\n",
    "\n",
    "  Ye sab methods data science aur machine learning mein bohot useful hain - sample data banane, train/test split, aur\n",
    "  simulations ke liye. Koi specific method ke baare mein aur detail chahiye?"
   ]
  }
 ],
 "metadata": {
  "language_info": {
   "name": "python"
  }
 },
 "nbformat": 4,
 "nbformat_minor": 5
}
