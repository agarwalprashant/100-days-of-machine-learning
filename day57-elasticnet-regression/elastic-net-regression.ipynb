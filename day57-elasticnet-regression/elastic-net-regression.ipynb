{
 "cells": [
  {
   "cell_type": "code",
   "execution_count": 70,
   "id": "71e28874",
   "metadata": {},
   "outputs": [],
   "source": [
    "from sklearn.datasets import load_diabetes\n",
    "from sklearn.linear_model import LinearRegression,Ridge,Lasso,ElasticNet\n",
    "from sklearn.model_selection import train_test_split\n",
    "from sklearn.metrics import r2_score"
   ]
  },
  {
   "cell_type": "code",
   "execution_count": 71,
   "id": "284ccf3c",
   "metadata": {},
   "outputs": [],
   "source": [
    "X,y = load_diabetes(return_X_y=True)"
   ]
  },
  {
   "cell_type": "code",
   "execution_count": 72,
   "id": "799d9080",
   "metadata": {},
   "outputs": [],
   "source": [
    "X_train,X_test,y_train,y_test = train_test_split(X,y,test_size=0.2,random_state=2)"
   ]
  },
  {
   "cell_type": "code",
   "execution_count": 73,
   "id": "8a242b9f",
   "metadata": {},
   "outputs": [
    {
     "data": {
      "text/plain": [
       "0.4399387660024645"
      ]
     },
     "execution_count": 73,
     "metadata": {},
     "output_type": "execute_result"
    }
   ],
   "source": [
    "# Linear Regression\n",
    "reg = LinearRegression()\n",
    "reg.fit(X_train,y_train)\n",
    "y_pred = reg.predict(X_test)\n",
    "r2_score(y_test,y_pred)"
   ]
  },
  {
   "cell_type": "code",
   "execution_count": 74,
   "id": "a41eb10c",
   "metadata": {},
   "outputs": [
    {
     "data": {
      "text/plain": [
       "0.4519973816947852"
      ]
     },
     "execution_count": 74,
     "metadata": {},
     "output_type": "execute_result"
    }
   ],
   "source": [
    "# Ridge \n",
    "reg = Ridge(alpha=0.1)\n",
    "reg.fit(X_train,y_train)\n",
    "y_pred = reg.predict(X_test)\n",
    "r2_score(y_test,y_pred)"
   ]
  },
  {
   "cell_type": "code",
   "execution_count": 75,
   "id": "b6b53e7c",
   "metadata": {},
   "outputs": [
    {
     "data": {
      "text/plain": [
       "0.4411227990495632"
      ]
     },
     "execution_count": 75,
     "metadata": {},
     "output_type": "execute_result"
    }
   ],
   "source": [
    "# Lasso\n",
    "reg = Lasso(alpha=0.01)\n",
    "reg.fit(X_train,y_train)\n",
    "y_pred = reg.predict(X_test)\n",
    "r2_score(y_test,y_pred)"
   ]
  },
  {
   "cell_type": "code",
   "execution_count": 76,
   "id": "5fc65b12",
   "metadata": {},
   "outputs": [
    {
     "data": {
      "text/plain": [
       "0.4531493801165679"
      ]
     },
     "execution_count": 76,
     "metadata": {},
     "output_type": "execute_result"
    }
   ],
   "source": [
    "# ElasticNet\n",
    "reg = ElasticNet(alpha=0.005,l1_ratio=0.9)\n",
    "reg.fit(X_train,y_train)\n",
    "y_pred = reg.predict(X_test)\n",
    "r2_score(y_test,y_pred)"
   ]
  },
  {
   "cell_type": "code",
   "execution_count": null,
   "id": "0cb67b0c",
   "metadata": {},
   "outputs": [],
   "source": [
    "# Cross Validation import karte hai\n",
    "from sklearn.model_selection import cross_val_score, GridSearchCV\n",
    "import numpy as np\n",
    "\n",
    "# Simple k-fold cross validation\n",
    "scores = cross_val_score(LinearRegression(), X, y, cv=5, scoring='r2')\n",
    "print(f\"Linear Regression CV scores: {scores}\")\n",
    "print(f\"Average CV score: {scores.mean():.4f} (+/- {scores.std() * 2:.4f})\")"
   ]
  },
  {
   "cell_type": "code",
   "execution_count": null,
   "id": "dff99f9a",
   "metadata": {},
   "outputs": [],
   "source": [
    "# ElasticNet ke liye hyperparameter tuning with Cross Validation\n",
    "from sklearn.model_selection import GridSearchCV\n",
    "\n",
    "# Parameter grid define karte hai\n",
    "param_grid = {\n",
    "    'alpha': [0.001, 0.005, 0.01, 0.05, 0.1],\n",
    "    'l1_ratio': [0.1, 0.3, 0.5, 0.7, 0.9]\n",
    "}\n",
    "\n",
    "# GridSearchCV use karte hai\n",
    "elastic_cv = GridSearchCV(ElasticNet(), param_grid, cv=5, scoring='r2')\n",
    "elastic_cv.fit(X_train, y_train)\n",
    "\n",
    "print(f\"Best parameters: {elastic_cv.best_params_}\")\n",
    "print(f\"Best CV score: {elastic_cv.best_score_:.4f}\")\n",
    "\n",
    "# Best model se prediction\n",
    "y_pred = elastic_cv.predict(X_test)\n",
    "print(f\"Test R2 score: {r2_score(y_test, y_pred):.4f}\")"
   ]
  },
  {
   "cell_type": "code",
   "execution_count": null,
   "id": "1e05d144",
   "metadata": {},
   "outputs": [],
   "source": [
    "# Sabhi models ko compare karte hai using Cross Validation\n",
    "models = {\n",
    "    'Linear Regression': LinearRegression(),\n",
    "    'Ridge': Ridge(alpha=0.1),\n",
    "    'Lasso': Lasso(alpha=0.01),\n",
    "    'ElasticNet': ElasticNet(alpha=0.005, l1_ratio=0.9)\n",
    "}\n",
    "\n",
    "for name, model in models.items():\n",
    "    scores = cross_val_score(model, X, y, cv=5, scoring='r2')\n",
    "    print(f\"{name}: {scores.mean():.4f} (+/- {scores.std() * 2:.4f})\")"
   ]
  },
  {
   "cell_type": "code",
   "execution_count": null,
   "id": "d2dce08c",
   "metadata": {},
   "outputs": [],
   "source": [
    "# Normal Cross Validation - Ek model, ek setting\n",
    "model = ElasticNet(alpha=0.01, l1_ratio=0.5)\n",
    "scores = cross_val_score(model, X, y, cv=5)\n",
    "print(f\"Ek specific model ka score: {scores.mean():.4f}\")\n",
    "\n",
    "# GridSearchCV - Bahut saare models, best wala dhundo\n",
    "param_grid = {\n",
    "    'alpha': [0.001, 0.01, 0.1],      # 3 values\n",
    "    'l1_ratio': [0.3, 0.5, 0.7]       # 3 values\n",
    "}\n",
    "# Total combinations = 3 x 3 = 9 different models\n",
    "\n",
    "grid = GridSearchCV(ElasticNet(), param_grid, cv=5)\n",
    "# Har model ko 5 baar test karega (CV)\n",
    "# Total experiments = 9 models × 5 folds = 45 experiments!\n",
    "\n",
    "# Summary:\n",
    "#   - Cross Validation = Fair testing method (5 baar test)\n",
    "#   - GridSearchCV = Cross Validation use karke best hyperparameters dhundo\n",
    "\n",
    "#   Real life analogy:\n",
    "#   - CV = Ek chef ki dish 5 different judges se taste karwana\n",
    "#   - GridSearchCV = 10 chefs ki dishes, har dish 5 judges se taste karwana, phir best chef choose karna\n",
    "\n",
    "#   GridSearchCV internally Cross Validation use karta hai har parameter combination ke liye!\n",
    "\n",
    "grid.fit(X, y)\n",
    "print(f\"\\nBest parameters mile: {grid.best_params_}\")\n",
    "print(f\"Best score: {grid.best_score_:.4f}\")"
   ]
  }
 ],
 "metadata": {
  "kernelspec": {
   "display_name": "Python 3",
   "language": "python",
   "name": "python3"
  },
  "language_info": {
   "codemirror_mode": {
    "name": "ipython",
    "version": 3
   },
   "file_extension": ".py",
   "mimetype": "text/x-python",
   "name": "python",
   "nbconvert_exporter": "python",
   "pygments_lexer": "ipython3",
   "version": "3.8.8"
  }
 },
 "nbformat": 4,
 "nbformat_minor": 5
}
