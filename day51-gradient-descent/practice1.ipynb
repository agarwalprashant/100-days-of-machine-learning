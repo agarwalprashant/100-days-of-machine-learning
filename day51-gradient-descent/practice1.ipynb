{
 "cells": [
  {
   "cell_type": "code",
   "execution_count": 146,
   "id": "8dfb912f",
   "metadata": {},
   "outputs": [],
   "source": [
    "import numpy as np\n",
    "import matplotlib.pyplot as plt\n",
    "from sklearn.datasets import make_regression"
   ]
  },
  {
   "cell_type": "code",
   "execution_count": 147,
   "id": "8c803b36",
   "metadata": {},
   "outputs": [
    {
     "name": "stdout",
     "output_type": "stream",
     "text": [
      "LinearRegression intercept: -2.2710144261783825\n",
      "LinearRegression slope: 28.12597331513561\n"
     ]
    }
   ],
   "source": [
    "# Pehle check karte hain ki reg model X_train par train karne ke baad kya intercept milta hai\n",
    "from sklearn.linear_model import LinearRegression\n",
    "import numpy as np\n",
    "from sklearn.datasets import make_regression\n",
    "from sklearn.model_selection import train_test_split\n",
    "\n",
    "# Same data recreate karte hain\n",
    "X,y = make_regression(n_samples=100,n_features=1,n_informative=1,n_targets=1,noise=20,random_state=13)\n",
    "X_train,X_test,y_train,y_test = train_test_split(X,y,test_size=0.2,random_state=2)\n",
    "\n",
    "# LinearRegression ko X_train par train karte hain\n",
    "reg = LinearRegression()\n",
    "reg.fit(X_train, y_train)\n",
    "\n",
    "print(\"LinearRegression intercept:\", reg.intercept_)\n",
    "print(\"LinearRegression slope:\", reg.coef_[0])"
   ]
  },
  {
   "cell_type": "code",
   "execution_count": 148,
   "id": "aa2b721d",
   "metadata": {},
   "outputs": [
    {
     "data": {
      "text/plain": [
       "[<matplotlib.lines.Line2D at 0x12f267a40>]"
      ]
     },
     "execution_count": 148,
     "metadata": {},
     "output_type": "execute_result"
    },
    {
     "data": {
      "image/png": "[encoded data removed]",
      "text/plain": [
       "<Figure size 640x480 with 1 Axes>"
      ]
     },
     "metadata": {},
     "output_type": "display_data"
    }
   ],
   "source": [
    "plt.scatter(X,y)\n",
    "plt.plot(X_train,reg.predict(X_train),'r')"
   ]
  },
  {
   "cell_type": "code",
   "execution_count": 158,
   "id": "6fd935af",
   "metadata": {},
   "outputs": [],
   "source": [
    "class GDRegressor:\n",
    "    def __init__(self,learning_rate,epochs):\n",
    "        self.lr = learning_rate\n",
    "        self.epochs = epochs\n",
    "        self.b = -120\n",
    "        self.m = 140\n",
    "        \n",
    "        \n",
    "    def fit(self,x,y):\n",
    "        for i in range(self.epochs):\n",
    "            self.b = self.b - self.lr * (-2*(np.sum(y.reshape(-1,1) - (self.m*x) - self.b)))\n",
    "            self.m = self.m - self.lr * (-2*(np.sum((y.reshape(-1,1) - (self.m*x) - self.b)*x)))\n",
    "\n",
    "        print(self.b,self.m)\n",
    "        \n",
    "    def predict(self,X_test):\n",
    "        return  self.m*X_test + self.b"
   ]
  },
  {
   "cell_type": "code",
   "execution_count": 159,
   "id": "4c53c4c0",
   "metadata": {},
   "outputs": [],
   "source": [
    "gd = GDRegressor(learning_rate=0.01,epochs=100)"
   ]
  },
  {
   "cell_type": "code",
   "execution_count": 160,
   "id": "7f39c859",
   "metadata": {},
   "outputs": [
    {
     "name": "stdout",
     "output_type": "stream",
     "text": [
      "-2.2710144261783825 28.125973315135614\n"
     ]
    }
   ],
   "source": [
    "gd.fit(X_train,y_train)"
   ]
  },
  {
   "cell_type": "code",
   "execution_count": null,
   "id": "b2d0dc9e",
   "metadata": {},
   "outputs": [],
   "source": []
  },
  {
   "cell_type": "code",
   "execution_count": null,
   "id": "a247bda9",
   "metadata": {},
   "outputs": [],
   "source": []
  },
  {
   "cell_type": "code",
   "execution_count": null,
   "id": "226bad1b",
   "metadata": {},
   "outputs": [],
   "source": []
  },
  {
   "cell_type": "code",
   "execution_count": 126,
   "id": "4xu8wpls7q",
   "metadata": {},
   "outputs": [
    {
     "name": "stdout",
     "output_type": "stream",
     "text": [
      "LinearRegression intercept: -2.2710144261783825\n",
      "LinearRegression slope: 28.12597331513561\n"
     ]
    }
   ],
   "source": [
    "# Pehle check karte hain ki reg model X_train par train karne ke baad kya intercept milta hai\n",
    "from sklearn.linear_model import LinearRegression\n",
    "import numpy as np\n",
    "from sklearn.datasets import make_regression\n",
    "from sklearn.model_selection import train_test_split\n",
    "\n",
    "# Same data recreate karte hain\n",
    "X,y = make_regression(n_samples=100,n_features=1,n_informative=1,n_targets=1,noise=20,random_state=13)\n",
    "X_train,X_test,y_train,y_test = train_test_split(X,y,test_size=0.2,random_state=2)\n",
    "\n",
    "# LinearRegression ko X_train par train karte hain\n",
    "reg = LinearRegression()\n",
    "reg.fit(X_train, y_train)\n",
    "\n",
    "print(\"LinearRegression intercept:\", reg.intercept_)\n",
    "print(\"LinearRegression slope:\", reg.coef_[0])"
   ]
  },
  {
   "cell_type": "code",
   "execution_count": null,
   "id": "9a2c30d6",
   "metadata": {},
   "outputs": [],
   "source": []
  }
 ],
 "metadata": {
  "kernelspec": {
   "display_name": "my_env",
   "language": "python",
   "name": "python3"
  },
  "language_info": {
   "codemirror_mode": {
    "name": "ipython",
    "version": 3
   },
   "file_extension": ".py",
   "mimetype": "text/x-python",
   "name": "python",
   "nbconvert_exporter": "python",
   "pygments_lexer": "ipython3",
   "version": "3.12.8"
  }
 },
 "nbformat": 4,
 "nbformat_minor": 5
}
