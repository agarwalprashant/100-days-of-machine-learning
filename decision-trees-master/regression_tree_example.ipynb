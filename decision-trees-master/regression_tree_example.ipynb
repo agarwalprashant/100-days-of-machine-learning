{
  "cells": [
    {
      "cell_type": "code",
      "execution_count": 16,
      "metadata": {
        "id": "JxCGo8_dtSFP"
      },
      "outputs": [
        {
          "ename": "ImportError",
          "evalue": "\n`load_boston` has been removed from scikit-learn since version 1.2.\n\nThe Boston housing prices dataset has an ethical problem: as\ninvestigated in [1], the authors of this dataset engineered a\nnon-invertible variable \"B\" assuming that racial self-segregation had a\npositive impact on house prices [2]. Furthermore the goal of the\nresearch that led to the creation of this dataset was to study the\nimpact of air quality but it did not give adequate demonstration of the\nvalidity of this assumption.\n\nThe scikit-learn maintainers therefore strongly discourage the use of\nthis dataset unless the purpose of the code is to study and educate\nabout ethical issues in data science and machine learning.\n\nIn this special case, you can fetch the dataset from the original\nsource::\n\n    import pandas as pd\n    import numpy as np\n\n    data_url = \"http://lib.stat.cmu.edu/datasets/boston\"\n    raw_df = pd.read_csv(data_url, sep=\"\\s+\", skiprows=22, header=None)\n    data = np.hstack([raw_df.values[::2, :], raw_df.values[1::2, :2]])\n    target = raw_df.values[1::2, 2]\n\nAlternative datasets include the California housing dataset and the\nAmes housing dataset. You can load the datasets as follows::\n\n    from sklearn.datasets import fetch_california_housing\n    housing = fetch_california_housing()\n\nfor the California housing dataset and::\n\n    from sklearn.datasets import fetch_openml\n    housing = fetch_openml(name=\"house_prices\", as_frame=True)\n\nfor the Ames housing dataset.\n\n[1] M Carlisle.\n\"Racist data destruction?\"\n<https://medium.com/@docintangible/racist-data-destruction-113e3eff54a8>\n\n[2] Harrison Jr, David, and Daniel L. Rubinfeld.\n\"Hedonic housing prices and the demand for clean air.\"\nJournal of environmental economics and management 5.1 (1978): 81-102.\n<https://www.researchgate.net/publication/4974606_Hedonic_housing_prices_and_the_demand_for_clean_air>\n",
          "output_type": "error",
          "traceback": [
            "\u001b[0;31m---------------------------------------------------------------------------\u001b[0m",
            "\u001b[0;31mImportError\u001b[0m                               Traceback (most recent call last)",
            "Cell \u001b[0;32mIn[53], line 7\u001b[0m\n\u001b[1;32m      5\u001b[0m \u001b[38;5;28;01mfrom\u001b[39;00m \u001b[38;5;21;01msklearn\u001b[39;00m \u001b[38;5;28;01mimport\u001b[39;00m metrics\n\u001b[1;32m      6\u001b[0m \u001b[38;5;28;01mfrom\u001b[39;00m \u001b[38;5;21;01msklearn\u001b[39;00m\u001b[38;5;21;01m.\u001b[39;00m\u001b[38;5;21;01mmetrics\u001b[39;00m \u001b[38;5;28;01mimport\u001b[39;00m r2_score\n\u001b[0;32m----> 7\u001b[0m \u001b[38;5;28;01mfrom\u001b[39;00m \u001b[38;5;21;01msklearn\u001b[39;00m\u001b[38;5;21;01m.\u001b[39;00m\u001b[38;5;21;01mdatasets\u001b[39;00m \u001b[38;5;28;01mimport\u001b[39;00m load_boston\n\u001b[1;32m      8\u001b[0m \u001b[38;5;28;01mfrom\u001b[39;00m \u001b[38;5;21;01msklearn\u001b[39;00m\u001b[38;5;21;01m.\u001b[39;00m\u001b[38;5;21;01mmodel_selection\u001b[39;00m \u001b[38;5;28;01mimport\u001b[39;00m GridSearchCV\n",
            "File \u001b[0;32m~/Downloads/campusx-notes/100-days-of-machine-learning/my_env/lib/python3.12/site-packages/sklearn/datasets/__init__.py:156\u001b[0m, in \u001b[0;36m__getattr__\u001b[0;34m(name)\u001b[0m\n\u001b[1;32m    105\u001b[0m \u001b[38;5;28;01mif\u001b[39;00m name \u001b[38;5;241m==\u001b[39m \u001b[38;5;124m\"\u001b[39m\u001b[38;5;124mload_boston\u001b[39m\u001b[38;5;124m\"\u001b[39m:\n\u001b[1;32m    106\u001b[0m     msg \u001b[38;5;241m=\u001b[39m textwrap\u001b[38;5;241m.\u001b[39mdedent(\n\u001b[1;32m    107\u001b[0m \u001b[38;5;250m        \u001b[39m\u001b[38;5;124;03m\"\"\"\u001b[39;00m\n\u001b[1;32m    108\u001b[0m \u001b[38;5;124;03m        `load_boston` has been removed from scikit-learn since version 1.2.\u001b[39;00m\n\u001b[0;32m   (...)\u001b[0m\n\u001b[1;32m    154\u001b[0m \u001b[38;5;124;03m        \"\"\"\u001b[39;00m\n\u001b[1;32m    155\u001b[0m     )\n\u001b[0;32m--> 156\u001b[0m     \u001b[38;5;28;01mraise\u001b[39;00m \u001b[38;5;167;01mImportError\u001b[39;00m(msg)\n\u001b[1;32m    157\u001b[0m \u001b[38;5;28;01mtry\u001b[39;00m:\n\u001b[1;32m    158\u001b[0m     \u001b[38;5;28;01mreturn\u001b[39;00m \u001b[38;5;28mglobals\u001b[39m()[name]\n",
            "\u001b[0;31mImportError\u001b[0m: \n`load_boston` has been removed from scikit-learn since version 1.2.\n\nThe Boston housing prices dataset has an ethical problem: as\ninvestigated in [1], the authors of this dataset engineered a\nnon-invertible variable \"B\" assuming that racial self-segregation had a\npositive impact on house prices [2]. Furthermore the goal of the\nresearch that led to the creation of this dataset was to study the\nimpact of air quality but it did not give adequate demonstration of the\nvalidity of this assumption.\n\nThe scikit-learn maintainers therefore strongly discourage the use of\nthis dataset unless the purpose of the code is to study and educate\nabout ethical issues in data science and machine learning.\n\nIn this special case, you can fetch the dataset from the original\nsource::\n\n    import pandas as pd\n    import numpy as np\n\n    data_url = \"http://lib.stat.cmu.edu/datasets/boston\"\n    raw_df = pd.read_csv(data_url, sep=\"\\s+\", skiprows=22, header=None)\n    data = np.hstack([raw_df.values[::2, :], raw_df.values[1::2, :2]])\n    target = raw_df.values[1::2, 2]\n\nAlternative datasets include the California housing dataset and the\nAmes housing dataset. You can load the datasets as follows::\n\n    from sklearn.datasets import fetch_california_housing\n    housing = fetch_california_housing()\n\nfor the California housing dataset and::\n\n    from sklearn.datasets import fetch_openml\n    housing = fetch_openml(name=\"house_prices\", as_frame=True)\n\nfor the Ames housing dataset.\n\n[1] M Carlisle.\n\"Racist data destruction?\"\n<https://medium.com/@docintangible/racist-data-destruction-113e3eff54a8>\n\n[2] Harrison Jr, David, and Daniel L. Rubinfeld.\n\"Hedonic housing prices and the demand for clean air.\"\nJournal of environmental economics and management 5.1 (1978): 81-102.\n<https://www.researchgate.net/publication/4974606_Hedonic_housing_prices_and_the_demand_for_clean_air>\n"
          ]
        }
      ],
      "source": [
        "import pandas as pd\n",
        "import numpy as np\n",
        "from sklearn.tree import DecisionTreeRegressor\n",
        "from sklearn.model_selection import train_test_split\n",
        "from sklearn import metrics\n",
        "from sklearn.metrics import r2_score\n",
        "from sklearn.datasets import load_boston\n",
        "from sklearn.model_selection import GridSearchCV"
      ]
    },
    {
      "cell_type": "code",
      "execution_count": 4,
      "metadata": {
        "id": "XcRphhGiteaB"
      },
      "outputs": [],
      "source": [
        "boston = load_boston()\n",
        "df = pd.DataFrame(boston.data)"
      ]
    },
    {
      "cell_type": "code",
      "execution_count": 5,
      "metadata": {
        "id": "WmJKGzxrtk5J"
      },
      "outputs": [
        {
          "ename": "NameError",
          "evalue": "name 'df' is not defined",
          "output_type": "error",
          "traceback": [
            "\u001b[0;31m---------------------------------------------------------------------------\u001b[0m",
            "\u001b[0;31mNameError\u001b[0m                                 Traceback (most recent call last)",
            "Cell \u001b[0;32mIn[5], line 1\u001b[0m\n\u001b[0;32m----> 1\u001b[0m \u001b[43mdf\u001b[49m\u001b[38;5;241m.\u001b[39mcolumns \u001b[38;5;241m=\u001b[39m housing\u001b[38;5;241m.\u001b[39mfeature_names\n\u001b[1;32m      2\u001b[0m df[\u001b[38;5;124m'\u001b[39m\u001b[38;5;124mMEDV\u001b[39m\u001b[38;5;124m'\u001b[39m] \u001b[38;5;241m=\u001b[39m housing\u001b[38;5;241m.\u001b[39mtarget\n",
            "\u001b[0;31mNameError\u001b[0m: name 'df' is not defined"
          ]
        }
      ],
      "source": [
        "df.columns = housing.feature_names\n",
        "df['MEDV'] = housing.target"
      ]
    },
    {
      "cell_type": "code",
      "execution_count": 7,
      "metadata": {
        "colab": {
          "base_uri": "https://localhost:8080/",
          "height": 198
        },
        "id": "jxRBIiC7twyw",
        "outputId": "af921672-cb7e-4efa-c0f5-6f19ae329a9e"
      },
      "outputs": [],
      "source": [
        "rt = DecisionTreeRegressor(criterion = 'mse', max_depth=5)"
      ]
    },
    {
      "cell_type": "code",
      "execution_count": 8,
      "metadata": {
        "id": "eVG5s_Jet1bA"
      },
      "outputs": [
        {
          "data": {
            "text/plain": [
              "DecisionTreeRegressor(ccp_alpha=0.0, criterion='mse', max_depth=5,\n",
              "                      max_features=None, max_leaf_nodes=None,\n",
              "                      min_impurity_decrease=0.0, min_impurity_split=None,\n",
              "                      min_samples_leaf=1, min_samples_split=2,\n",
              "                      min_weight_fraction_leaf=0.0, presort='deprecated',\n",
              "                      random_state=None, splitter='best')"
            ]
          },
          "execution_count": 12,
          "metadata": {
            "tags": []
          },
          "output_type": "execute_result"
        }
      ],
      "source": [
        "rt.fit(X_train,y_train)"
      ]
    },
    {
      "cell_type": "markdown",
      "metadata": {
        "id": "cOUN-0UYuGUJ"
      },
      "source": [
        "# Hyperparameter Tuning"
      ]
    },
    {
      "cell_type": "code",
      "execution_count": 11,
      "metadata": {
        "id": "sD_wecziuNXM"
      },
      "outputs": [],
      "source": [
        "param_grid = {\n",
        "    'max_depth':[2,4,8,10,None],\n",
        "    'criterion':['mse','mae'],\n",
        "    'max_features':[0.25,0.5,1.0],\n",
        "    'min_samples_split':[0.25,0.5,1.0]\n",
        "}"
      ]
    },
    {
      "cell_type": "code",
      "execution_count": 12,
      "metadata": {
        "colab": {
          "base_uri": "https://localhost:8080/"
        },
        "id": "JDzegfs-uRzM",
        "outputId": "e8c6e87c-e837-4d0f-8299-a9c087d36ec5"
      },
      "outputs": [],
      "source": [
        "reg = GridSearchCV(DecisionTreeRegressor(),param_grid=param_grid)"
      ]
    },
    {
      "cell_type": "code",
      "execution_count": 13,
      "metadata": {
        "id": "frsXe_HXua2g"
      },
      "outputs": [
        {
          "data": {
            "text/plain": [
              "0.6452352174104019"
            ]
          },
          "execution_count": 21,
          "metadata": {
            "tags": []
          },
          "output_type": "execute_result"
        }
      ],
      "source": [
        "reg.best_score_"
      ]
    },
    {
      "cell_type": "code",
      "execution_count": 14,
      "metadata": {
        "colab": {
          "base_uri": "https://localhost:8080/"
        },
        "id": "lJr4QL0Yue3s",
        "outputId": "aaf50e73-c8a1-487a-a6ad-f88ac5c0a762"
      },
      "outputs": [
        {
          "data": {
            "text/plain": [
              "{'criterion': 'mse',\n",
              " 'max_depth': None,\n",
              " 'max_features': 0.5,\n",
              " 'min_samples_split': 0.25}"
            ]
          },
          "execution_count": 22,
          "metadata": {
            "tags": []
          },
          "output_type": "execute_result"
        }
      ],
      "source": [
        "reg.best_params_"
      ]
    },
    {
      "cell_type": "markdown",
      "metadata": {
        "id": "m-TDhtOsvG1B"
      },
      "source": [
        "# Feature Importance"
      ]
    },
    {
      "cell_type": "code",
      "execution_count": 17,
      "metadata": {
        "id": "ekcQSlayvie2"
      },
      "outputs": [
        {
          "name": "stdout",
          "output_type": "stream",
          "text": [
            "RM 0.6344993240692652\n",
            "LSTAT 0.19426427075925173\n",
            "CRIM 0.07395590730917082\n",
            "DIS 0.06744514557703153\n",
            "B 0.011905660139828182\n",
            "AGE 0.006176126174365511\n",
            "PTRATIO 0.004391097507128497\n",
            "NOX 0.0035610403857026535\n",
            "INDUS 0.002627468726682041\n",
            "RAD 0.0011739593515739223\n",
            "ZN 0.0\n",
            "TAX 0.0\n",
            "CHAS 0.0\n"
          ]
        }
      ],
      "source": [
        "for importance, name in sorted(zip(rt.feature_importances_, X_train.columns),reverse=True):\n",
        "  print (name, importance)"
      ]
    },
    {
      "cell_type": "code",
      "execution_count": null,
      "metadata": {
        "id": "LOIMY_oww_AR"
      },
      "outputs": [
        {
          "name": "stdout",
          "output_type": "stream",
          "text": [
            "Cross Validation Results:\n",
            "----------------------------------------\n",
            "Individual fold scores: [0.32603463 0.52499182 0.60290742 0.31954034 0.53355785]\n",
            "Mean CV Score: 0.4614\n",
            "Standard Deviation: 0.1164\n",
            "\n",
            "Single train-test split score: 0.8834\n",
            "Cross validation average: 0.4614\n"
          ]
        }
      ],
      "source": [
        "# when Doing cross validation do we not need to do fit? And predict and train split by \n",
        "#   ourselves, does cross validation do this for us?\n",
        "\n",
        "# ⏺ Bilkul sahi samjha aapne! Cross validation automatically sab kuch handle karta hai:\n",
        "\n",
        "#   Cross validation internally ye sab karta hai:\n",
        "\n",
        "#   1. Data splitting - Automatically K folds mein divide karta hai\n",
        "#   2. Training - Har iteration mein model ko train karta hai\n",
        "#   3. Prediction - Test fold pe predictions banata hai\n",
        "#   4. Scoring - Score calculate karta hai\n",
        "#   5. Repeat - Ye process K times repeat karta hai\n",
        "\n",
        "#   Example - Behind the scenes kya hota hai:\n",
        "\n",
        "#   cv_scores = cross_val_score(model, X, y, cv=5)\n",
        "\n",
        "#   # Internally ye ho raha hai:\n",
        "#   Fold 1: Train on [2,3,4,5], Test on [1] → fit() → predict() → score\n",
        "#   Fold 2: Train on [1,3,4,5], Test on [2] → fit() → predict() → score\n",
        "#   Fold 3: Train on [1,2,4,5], Test on [3] → fit() → predict() → score\n",
        "#   Fold 4: Train on [1,2,3,5], Test on [4] → fit() → predict() → score\n",
        "#   Fold 5: Train on [1,2,3,4], Test on [5] → fit() → predict() → score\n",
        "\n",
        "#   Important points:\n",
        "\n",
        "#   - Aapko manually train_test_split() karne ki zarurat NAHI hai\n",
        "#   - Aapko manually fit() karne ki zarurat NAHI hai\n",
        "#   - Aapko manually predict() karne ki zarurat NAHI hai\n",
        "#   - Cross validation ye sab automatically karta hai aur sirf scores return karta hai\n",
        "\n",
        "#   Lekin agar aapko final model chahiye:\n",
        "#   - Cross validation sirf evaluation ke liye hai\n",
        "#   - Final deployment ke liye aapko separately full data pe model train karna padega\n",
        "#   - Ya phir cross_val_predict() use kar sakte hain predictions ke liye\n",
        "\n",
        "# Cross Validation perform karte hain\n",
        "from sklearn.model_selection import cross_val_score\n",
        "\n",
        "# K-Fold Cross Validation with K=5\n",
        "# Same model parameters use karte hain jo upar use kiye the\n",
        "rt_cv = DecisionTreeRegressor(criterion='squared_error', max_depth=5)\n",
        "\n",
        "# Cross validation scores calculate karo (5 folds)\n",
        "cv_scores = cross_val_score(rt_cv, X, y, cv=5, scoring='r2')\n",
        "\n",
        "print(\"Cross Validation Results:\")\n",
        "print(\"-\" * 40)\n",
        "print(f\"Individual fold scores: {cv_scores}\")\n",
        "print(f\"Mean CV Score: {cv_scores.mean():.4f}\")\n",
        "print(f\"Standard Deviation: {cv_scores.std():.4f}\")\n",
        "print(f\"\\nSingle train-test split score: 0.8834\")\n",
        "print(f\"Cross validation average: {cv_scores.mean():.4f}\")\n",
        "\n",
        "# Agar CV score aur single split score mein bahut difference hai, \n",
        "# toh model ki stability questionable hai"
      ]
    },
    {
      "cell_type": "code",
      "execution_count": 20,
      "metadata": {
        "colab": {
          "base_uri": "https://localhost:8080/"
        },
        "id": "OTWsNguWxYYd",
        "outputId": "93266dfc-5697-4344-e67e-b3be6018340b"
      },
      "outputs": [],
      "source": [
        "# Different types of Cross Validation\n",
        "from sklearn.model_selection import cross_validate, KFold, ShuffleSplit\n",
        "\n",
        "# 1. Detailed metrics ke saath cross validation\n",
        "cv_results = cross_validate(rt_cv, X, y, cv=5, \n",
        "                           scoring=['r2', 'neg_mean_squared_error', 'neg_mean_absolute_error'],\n",
        "                           return_train_score=True)\n",
        "\n",
        "print(\"Detailed Cross Validation Metrics:\")\n",
        "print(\"-\" * 50)\n",
        "print(f\"R² Test Score: {cv_results['test_r2'].mean():.4f} (+/- {cv_results['test_r2'].std():.4f})\")\n",
        "print(f\"R² Train Score: {cv_results['train_r2'].mean():.4f} (+/- {cv_results['train_r2'].std():.4f})\")\n",
        "print(f\"MSE: {-cv_results['test_neg_mean_squared_error'].mean():.4f}\")\n",
        "print(f\"MAE: {-cv_results['test_neg_mean_absolute_error'].mean():.4f}\")\n",
        "\n",
        "# 2. Custom K-Fold with shuffle\n",
        "kfold = KFold(n_splits=10, shuffle=True, random_state=42)\n",
        "cv_scores_10fold = cross_val_score(rt_cv, X, y, cv=kfold, scoring='r2')\n",
        "print(f\"\\n10-Fold CV Score: {cv_scores_10fold.mean():.4f} (+/- {cv_scores_10fold.std():.4f})\")\n",
        "\n",
        "# 3. ShuffleSplit CV (Random train-test splits)\n",
        "shuffle_split = ShuffleSplit(n_splits=10, test_size=0.2, random_state=42)\n",
        "cv_scores_shuffle = cross_val_score(rt_cv, X, y, cv=shuffle_split, scoring='r2')\n",
        "print(f\"ShuffleSplit CV Score: {cv_scores_shuffle.mean():.4f} (+/- {cv_scores_shuffle.std():.4f})\")"
      ]
    },
    {
      "cell_type": "code",
      "execution_count": 21,
      "metadata": {
        "colab": {
          "base_uri": "https://localhost:8080/"
        },
        "id": "2p2gXODVxjyR",
        "outputId": "62d8ad8b-b094-49c6-f6bf-ec19150e18fd"
      },
      "outputs": [],
      "source": [
        "# Cross Validation with best parameters from GridSearchCV\n",
        "best_model = DecisionTreeRegressor(criterion='mse', max_depth=None, \n",
        "                                  max_features=0.5, min_samples_split=0.25)\n",
        "\n",
        "cv_scores_best = cross_val_score(best_model, X, y, cv=5, scoring='r2')\n",
        "\n",
        "print(\"Best Model (from GridSearchCV) Cross Validation:\")\n",
        "print(\"-\" * 50)\n",
        "print(f\"CV Scores: {cv_scores_best}\")\n",
        "print(f\"Mean: {cv_scores_best.mean():.4f}\")\n",
        "print(f\"Std: {cv_scores_best.std():.4f}\")\n",
        "\n",
        "# Compare with original model\n",
        "print(f\"\\nComparison:\")\n",
        "print(f\"Original model (max_depth=5): {cv_scores.mean():.4f}\")\n",
        "print(f\"Best model (GridSearchCV params): {cv_scores_best.mean():.4f}\")\n",
        "print(f\"Improvement: {(cv_scores_best.mean() - cv_scores.mean()):.4f}\")"
      ]
    }
  ],
  "metadata": {
    "colab": {
      "name": "regression-tree-example.ipynb",
      "provenance": []
    },
    "kernelspec": {
      "display_name": "Python 3",
      "name": "python3"
    },
    "language_info": {
      "name": "python"
    }
  },
  "nbformat": 4,
  "nbformat_minor": 0
}
