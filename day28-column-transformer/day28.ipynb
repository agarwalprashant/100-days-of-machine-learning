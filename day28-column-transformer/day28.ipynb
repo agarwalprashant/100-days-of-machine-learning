{
 "cells": [
  {
   "cell_type": "code",
   "execution_count": 1,
   "metadata": {},
   "outputs": [],
   "source": [
    "import numpy as np\n",
    "import pandas as pd"
   ]
  },
  {
   "cell_type": "code",
   "execution_count": null,
   "metadata": {},
   "outputs": [],
   "source": []
  },
  {
   "cell_type": "code",
   "execution_count": 2,
   "metadata": {},
   "outputs": [],
   "source": [
    "from sklearn.impute import SimpleImputer\n",
    "from sklearn.preprocessing import OneHotEncoder\n",
    "from sklearn.preprocessing import OrdinalEncoder"
   ]
  },
  {
   "cell_type": "code",
   "execution_count": 3,
   "metadata": {},
   "outputs": [
    {
     "data": {
      "text/html": [
       "<div>\n",
       "<style scoped>\n",
       "    .dataframe tbody tr th:only-of-type {\n",
       "        vertical-align: middle;\n",
       "    }\n",
       "\n",
       "    .dataframe tbody tr th {\n",
       "        vertical-align: top;\n",
       "    }\n",
       "\n",
       "    .dataframe thead th {\n",
       "        text-align: right;\n",
       "    }\n",
       "</style>\n",
       "<table border=\"1\" class=\"dataframe\">\n",
       "  <thead>\n",
       "    <tr style=\"text-align: right;\">\n",
       "      <th></th>\n",
       "      <th>age</th>\n",
       "      <th>gender</th>\n",
       "      <th>fever</th>\n",
       "      <th>cough</th>\n",
       "      <th>city</th>\n",
       "      <th>has_covid</th>\n",
       "    </tr>\n",
       "  </thead>\n",
       "  <tbody>\n",
       "    <tr>\n",
       "      <th>0</th>\n",
       "      <td>60</td>\n",
       "      <td>Male</td>\n",
       "      <td>103.0</td>\n",
       "      <td>Mild</td>\n",
       "      <td>Kolkata</td>\n",
       "      <td>No</td>\n",
       "    </tr>\n",
       "    <tr>\n",
       "      <th>1</th>\n",
       "      <td>27</td>\n",
       "      <td>Male</td>\n",
       "      <td>100.0</td>\n",
       "      <td>Mild</td>\n",
       "      <td>Delhi</td>\n",
       "      <td>Yes</td>\n",
       "    </tr>\n",
       "    <tr>\n",
       "      <th>2</th>\n",
       "      <td>42</td>\n",
       "      <td>Male</td>\n",
       "      <td>101.0</td>\n",
       "      <td>Mild</td>\n",
       "      <td>Delhi</td>\n",
       "      <td>No</td>\n",
       "    </tr>\n",
       "    <tr>\n",
       "      <th>3</th>\n",
       "      <td>31</td>\n",
       "      <td>Female</td>\n",
       "      <td>98.0</td>\n",
       "      <td>Mild</td>\n",
       "      <td>Kolkata</td>\n",
       "      <td>No</td>\n",
       "    </tr>\n",
       "    <tr>\n",
       "      <th>4</th>\n",
       "      <td>65</td>\n",
       "      <td>Female</td>\n",
       "      <td>101.0</td>\n",
       "      <td>Mild</td>\n",
       "      <td>Mumbai</td>\n",
       "      <td>No</td>\n",
       "    </tr>\n",
       "    <tr>\n",
       "      <th>...</th>\n",
       "      <td>...</td>\n",
       "      <td>...</td>\n",
       "      <td>...</td>\n",
       "      <td>...</td>\n",
       "      <td>...</td>\n",
       "      <td>...</td>\n",
       "    </tr>\n",
       "    <tr>\n",
       "      <th>95</th>\n",
       "      <td>12</td>\n",
       "      <td>Female</td>\n",
       "      <td>104.0</td>\n",
       "      <td>Mild</td>\n",
       "      <td>Bangalore</td>\n",
       "      <td>No</td>\n",
       "    </tr>\n",
       "    <tr>\n",
       "      <th>96</th>\n",
       "      <td>51</td>\n",
       "      <td>Female</td>\n",
       "      <td>101.0</td>\n",
       "      <td>Strong</td>\n",
       "      <td>Kolkata</td>\n",
       "      <td>Yes</td>\n",
       "    </tr>\n",
       "    <tr>\n",
       "      <th>97</th>\n",
       "      <td>20</td>\n",
       "      <td>Female</td>\n",
       "      <td>101.0</td>\n",
       "      <td>Mild</td>\n",
       "      <td>Bangalore</td>\n",
       "      <td>No</td>\n",
       "    </tr>\n",
       "    <tr>\n",
       "      <th>98</th>\n",
       "      <td>5</td>\n",
       "      <td>Female</td>\n",
       "      <td>98.0</td>\n",
       "      <td>Strong</td>\n",
       "      <td>Mumbai</td>\n",
       "      <td>No</td>\n",
       "    </tr>\n",
       "    <tr>\n",
       "      <th>99</th>\n",
       "      <td>10</td>\n",
       "      <td>Female</td>\n",
       "      <td>98.0</td>\n",
       "      <td>Strong</td>\n",
       "      <td>Kolkata</td>\n",
       "      <td>Yes</td>\n",
       "    </tr>\n",
       "  </tbody>\n",
       "</table>\n",
       "<p>100 rows × 6 columns</p>\n",
       "</div>"
      ],
      "text/plain": [
       "    age  gender  fever   cough       city has_covid\n",
       "0    60    Male  103.0    Mild    Kolkata        No\n",
       "1    27    Male  100.0    Mild      Delhi       Yes\n",
       "2    42    Male  101.0    Mild      Delhi        No\n",
       "3    31  Female   98.0    Mild    Kolkata        No\n",
       "4    65  Female  101.0    Mild     Mumbai        No\n",
       "..  ...     ...    ...     ...        ...       ...\n",
       "95   12  Female  104.0    Mild  Bangalore        No\n",
       "96   51  Female  101.0  Strong    Kolkata       Yes\n",
       "97   20  Female  101.0    Mild  Bangalore        No\n",
       "98    5  Female   98.0  Strong     Mumbai        No\n",
       "99   10  Female   98.0  Strong    Kolkata       Yes\n",
       "\n",
       "[100 rows x 6 columns]"
      ]
     },
     "execution_count": 3,
     "metadata": {},
     "output_type": "execute_result"
    }
   ],
   "source": [
    "df = pd.read_csv('covid_toy.csv')\n",
    "df"
   ]
  },
  {
   "cell_type": "code",
   "execution_count": 9,
   "metadata": {},
   "outputs": [
    {
     "data": {
      "text/plain": [
       "cough\n",
       "Mild      62\n",
       "Strong    38\n",
       "Name: count, dtype: int64"
      ]
     },
     "execution_count": 9,
     "metadata": {},
     "output_type": "execute_result"
    }
   ],
   "source": [
    "df['cough'].value_counts()"
   ]
  },
  {
   "cell_type": "code",
   "execution_count": 10,
   "metadata": {},
   "outputs": [
    {
     "data": {
      "text/plain": [
       "city\n",
       "Kolkata      32\n",
       "Bangalore    30\n",
       "Delhi        22\n",
       "Mumbai       16\n",
       "Name: count, dtype: int64"
      ]
     },
     "execution_count": 10,
     "metadata": {},
     "output_type": "execute_result"
    }
   ],
   "source": [
    "df['city'].value_counts()\n"
   ]
  },
  {
   "cell_type": "code",
   "execution_count": 11,
   "metadata": {},
   "outputs": [
    {
     "data": {
      "text/html": [
       "<div>\n",
       "<style scoped>\n",
       "    .dataframe tbody tr th:only-of-type {\n",
       "        vertical-align: middle;\n",
       "    }\n",
       "\n",
       "    .dataframe tbody tr th {\n",
       "        vertical-align: top;\n",
       "    }\n",
       "\n",
       "    .dataframe thead th {\n",
       "        text-align: right;\n",
       "    }\n",
       "</style>\n",
       "<table border=\"1\" class=\"dataframe\">\n",
       "  <thead>\n",
       "    <tr style=\"text-align: right;\">\n",
       "      <th></th>\n",
       "      <th>age</th>\n",
       "      <th>gender</th>\n",
       "      <th>fever</th>\n",
       "      <th>cough</th>\n",
       "      <th>city</th>\n",
       "      <th>has_covid</th>\n",
       "    </tr>\n",
       "  </thead>\n",
       "  <tbody>\n",
       "    <tr>\n",
       "      <th>0</th>\n",
       "      <td>60</td>\n",
       "      <td>Male</td>\n",
       "      <td>103.0</td>\n",
       "      <td>Mild</td>\n",
       "      <td>Kolkata</td>\n",
       "      <td>No</td>\n",
       "    </tr>\n",
       "    <tr>\n",
       "      <th>1</th>\n",
       "      <td>27</td>\n",
       "      <td>Male</td>\n",
       "      <td>100.0</td>\n",
       "      <td>Mild</td>\n",
       "      <td>Delhi</td>\n",
       "      <td>Yes</td>\n",
       "    </tr>\n",
       "    <tr>\n",
       "      <th>2</th>\n",
       "      <td>42</td>\n",
       "      <td>Male</td>\n",
       "      <td>101.0</td>\n",
       "      <td>Mild</td>\n",
       "      <td>Delhi</td>\n",
       "      <td>No</td>\n",
       "    </tr>\n",
       "    <tr>\n",
       "      <th>3</th>\n",
       "      <td>31</td>\n",
       "      <td>Female</td>\n",
       "      <td>98.0</td>\n",
       "      <td>Mild</td>\n",
       "      <td>Kolkata</td>\n",
       "      <td>No</td>\n",
       "    </tr>\n",
       "    <tr>\n",
       "      <th>4</th>\n",
       "      <td>65</td>\n",
       "      <td>Female</td>\n",
       "      <td>101.0</td>\n",
       "      <td>Mild</td>\n",
       "      <td>Mumbai</td>\n",
       "      <td>No</td>\n",
       "    </tr>\n",
       "    <tr>\n",
       "      <th>...</th>\n",
       "      <td>...</td>\n",
       "      <td>...</td>\n",
       "      <td>...</td>\n",
       "      <td>...</td>\n",
       "      <td>...</td>\n",
       "      <td>...</td>\n",
       "    </tr>\n",
       "    <tr>\n",
       "      <th>95</th>\n",
       "      <td>12</td>\n",
       "      <td>Female</td>\n",
       "      <td>104.0</td>\n",
       "      <td>Mild</td>\n",
       "      <td>Bangalore</td>\n",
       "      <td>No</td>\n",
       "    </tr>\n",
       "    <tr>\n",
       "      <th>96</th>\n",
       "      <td>51</td>\n",
       "      <td>Female</td>\n",
       "      <td>101.0</td>\n",
       "      <td>Strong</td>\n",
       "      <td>Kolkata</td>\n",
       "      <td>Yes</td>\n",
       "    </tr>\n",
       "    <tr>\n",
       "      <th>97</th>\n",
       "      <td>20</td>\n",
       "      <td>Female</td>\n",
       "      <td>101.0</td>\n",
       "      <td>Mild</td>\n",
       "      <td>Bangalore</td>\n",
       "      <td>No</td>\n",
       "    </tr>\n",
       "    <tr>\n",
       "      <th>98</th>\n",
       "      <td>5</td>\n",
       "      <td>Female</td>\n",
       "      <td>98.0</td>\n",
       "      <td>Strong</td>\n",
       "      <td>Mumbai</td>\n",
       "      <td>No</td>\n",
       "    </tr>\n",
       "    <tr>\n",
       "      <th>99</th>\n",
       "      <td>10</td>\n",
       "      <td>Female</td>\n",
       "      <td>98.0</td>\n",
       "      <td>Strong</td>\n",
       "      <td>Kolkata</td>\n",
       "      <td>Yes</td>\n",
       "    </tr>\n",
       "  </tbody>\n",
       "</table>\n",
       "<p>100 rows × 6 columns</p>\n",
       "</div>"
      ],
      "text/plain": [
       "    age  gender  fever   cough       city has_covid\n",
       "0    60    Male  103.0    Mild    Kolkata        No\n",
       "1    27    Male  100.0    Mild      Delhi       Yes\n",
       "2    42    Male  101.0    Mild      Delhi        No\n",
       "3    31  Female   98.0    Mild    Kolkata        No\n",
       "4    65  Female  101.0    Mild     Mumbai        No\n",
       "..  ...     ...    ...     ...        ...       ...\n",
       "95   12  Female  104.0    Mild  Bangalore        No\n",
       "96   51  Female  101.0  Strong    Kolkata       Yes\n",
       "97   20  Female  101.0    Mild  Bangalore        No\n",
       "98    5  Female   98.0  Strong     Mumbai        No\n",
       "99   10  Female   98.0  Strong    Kolkata       Yes\n",
       "\n",
       "[100 rows x 6 columns]"
      ]
     },
     "execution_count": 11,
     "metadata": {},
     "output_type": "execute_result"
    }
   ],
   "source": [
    "df"
   ]
  },
  {
   "cell_type": "code",
   "execution_count": 14,
   "metadata": {},
   "outputs": [
    {
     "data": {
      "text/plain": [
       "age           0\n",
       "gender        0\n",
       "fever        10\n",
       "cough         0\n",
       "city          0\n",
       "has_covid     0\n",
       "dtype: int64"
      ]
     },
     "execution_count": 14,
     "metadata": {},
     "output_type": "execute_result"
    }
   ],
   "source": [
    "df.isnull().sum()"
   ]
  },
  {
   "cell_type": "code",
   "execution_count": 18,
   "metadata": {},
   "outputs": [
    {
     "data": {
      "text/plain": [
       "0      No\n",
       "1     Yes\n",
       "2      No\n",
       "3      No\n",
       "4      No\n",
       "     ... \n",
       "95     No\n",
       "96    Yes\n",
       "97     No\n",
       "98     No\n",
       "99    Yes\n",
       "Name: has_covid, Length: 100, dtype: object"
      ]
     },
     "execution_count": 18,
     "metadata": {},
     "output_type": "execute_result"
    }
   ],
   "source": [
    "df.iloc[:,-1]"
   ]
  },
  {
   "cell_type": "code",
   "execution_count": 19,
   "metadata": {},
   "outputs": [],
   "source": [
    "from sklearn.model_selection import train_test_split\n",
    "X_train,X_test,y_train,y_test = train_test_split(df.drop(['has_covid'],axis=1),df.iloc[:,-1],random_state=42,test_size=0.2)"
   ]
  },
  {
   "cell_type": "code",
   "execution_count": 22,
   "metadata": {},
   "outputs": [
    {
     "data": {
      "text/plain": [
       "5    NaN\n",
       "7    NaN\n",
       "10   NaN\n",
       "19   NaN\n",
       "25   NaN\n",
       "29   NaN\n",
       "41   NaN\n",
       "56   NaN\n",
       "91   NaN\n",
       "94   NaN\n",
       "Name: fever, dtype: float64"
      ]
     },
     "execution_count": 22,
     "metadata": {},
     "output_type": "execute_result"
    }
   ],
   "source": [
    "mask = df['fever'].isnull()==True\n",
    "df['fever'][mask]"
   ]
  },
  {
   "cell_type": "code",
   "execution_count": 25,
   "metadata": {},
   "outputs": [
    {
     "data": {
      "text/html": [
       "<div>\n",
       "<style scoped>\n",
       "    .dataframe tbody tr th:only-of-type {\n",
       "        vertical-align: middle;\n",
       "    }\n",
       "\n",
       "    .dataframe tbody tr th {\n",
       "        vertical-align: top;\n",
       "    }\n",
       "\n",
       "    .dataframe thead th {\n",
       "        text-align: right;\n",
       "    }\n",
       "</style>\n",
       "<table border=\"1\" class=\"dataframe\">\n",
       "  <thead>\n",
       "    <tr style=\"text-align: right;\">\n",
       "      <th></th>\n",
       "      <th>age</th>\n",
       "      <th>gender</th>\n",
       "      <th>fever</th>\n",
       "      <th>cough</th>\n",
       "      <th>city</th>\n",
       "    </tr>\n",
       "  </thead>\n",
       "  <tbody>\n",
       "    <tr>\n",
       "      <th>55</th>\n",
       "      <td>81</td>\n",
       "      <td>Female</td>\n",
       "      <td>101.0</td>\n",
       "      <td>Mild</td>\n",
       "      <td>Mumbai</td>\n",
       "    </tr>\n",
       "    <tr>\n",
       "      <th>88</th>\n",
       "      <td>5</td>\n",
       "      <td>Female</td>\n",
       "      <td>100.0</td>\n",
       "      <td>Mild</td>\n",
       "      <td>Kolkata</td>\n",
       "    </tr>\n",
       "    <tr>\n",
       "      <th>26</th>\n",
       "      <td>19</td>\n",
       "      <td>Female</td>\n",
       "      <td>100.0</td>\n",
       "      <td>Mild</td>\n",
       "      <td>Kolkata</td>\n",
       "    </tr>\n",
       "    <tr>\n",
       "      <th>42</th>\n",
       "      <td>27</td>\n",
       "      <td>Male</td>\n",
       "      <td>100.0</td>\n",
       "      <td>Mild</td>\n",
       "      <td>Delhi</td>\n",
       "    </tr>\n",
       "    <tr>\n",
       "      <th>69</th>\n",
       "      <td>73</td>\n",
       "      <td>Female</td>\n",
       "      <td>103.0</td>\n",
       "      <td>Mild</td>\n",
       "      <td>Delhi</td>\n",
       "    </tr>\n",
       "    <tr>\n",
       "      <th>...</th>\n",
       "      <td>...</td>\n",
       "      <td>...</td>\n",
       "      <td>...</td>\n",
       "      <td>...</td>\n",
       "      <td>...</td>\n",
       "    </tr>\n",
       "    <tr>\n",
       "      <th>60</th>\n",
       "      <td>24</td>\n",
       "      <td>Female</td>\n",
       "      <td>102.0</td>\n",
       "      <td>Strong</td>\n",
       "      <td>Bangalore</td>\n",
       "    </tr>\n",
       "    <tr>\n",
       "      <th>71</th>\n",
       "      <td>75</td>\n",
       "      <td>Female</td>\n",
       "      <td>104.0</td>\n",
       "      <td>Strong</td>\n",
       "      <td>Delhi</td>\n",
       "    </tr>\n",
       "    <tr>\n",
       "      <th>14</th>\n",
       "      <td>51</td>\n",
       "      <td>Male</td>\n",
       "      <td>104.0</td>\n",
       "      <td>Mild</td>\n",
       "      <td>Bangalore</td>\n",
       "    </tr>\n",
       "    <tr>\n",
       "      <th>92</th>\n",
       "      <td>82</td>\n",
       "      <td>Female</td>\n",
       "      <td>102.0</td>\n",
       "      <td>Strong</td>\n",
       "      <td>Kolkata</td>\n",
       "    </tr>\n",
       "    <tr>\n",
       "      <th>51</th>\n",
       "      <td>11</td>\n",
       "      <td>Female</td>\n",
       "      <td>100.0</td>\n",
       "      <td>Strong</td>\n",
       "      <td>Kolkata</td>\n",
       "    </tr>\n",
       "  </tbody>\n",
       "</table>\n",
       "<p>80 rows × 5 columns</p>\n",
       "</div>"
      ],
      "text/plain": [
       "    age  gender  fever   cough       city\n",
       "55   81  Female  101.0    Mild     Mumbai\n",
       "88    5  Female  100.0    Mild    Kolkata\n",
       "26   19  Female  100.0    Mild    Kolkata\n",
       "42   27    Male  100.0    Mild      Delhi\n",
       "69   73  Female  103.0    Mild      Delhi\n",
       "..  ...     ...    ...     ...        ...\n",
       "60   24  Female  102.0  Strong  Bangalore\n",
       "71   75  Female  104.0  Strong      Delhi\n",
       "14   51    Male  104.0    Mild  Bangalore\n",
       "92   82  Female  102.0  Strong    Kolkata\n",
       "51   11  Female  100.0  Strong    Kolkata\n",
       "\n",
       "[80 rows x 5 columns]"
      ]
     },
     "execution_count": 25,
     "metadata": {},
     "output_type": "execute_result"
    }
   ],
   "source": [
    "X_train"
   ]
  },
  {
   "cell_type": "code",
   "execution_count": 29,
   "metadata": {},
   "outputs": [
    {
     "data": {
      "text/plain": [
       "1"
      ]
     },
     "execution_count": 29,
     "metadata": {},
     "output_type": "execute_result"
    }
   ],
   "source": [
    "X_train['fever'].ndim"
   ]
  },
  {
   "cell_type": "code",
   "execution_count": 44,
   "metadata": {},
   "outputs": [
    {
     "data": {
      "text/html": [
       "<div>\n",
       "<style scoped>\n",
       "    .dataframe tbody tr th:only-of-type {\n",
       "        vertical-align: middle;\n",
       "    }\n",
       "\n",
       "    .dataframe tbody tr th {\n",
       "        vertical-align: top;\n",
       "    }\n",
       "\n",
       "    .dataframe thead th {\n",
       "        text-align: right;\n",
       "    }\n",
       "</style>\n",
       "<table border=\"1\" class=\"dataframe\">\n",
       "  <thead>\n",
       "    <tr style=\"text-align: right;\">\n",
       "      <th></th>\n",
       "      <th>fever</th>\n",
       "    </tr>\n",
       "  </thead>\n",
       "  <tbody>\n",
       "    <tr>\n",
       "      <th>0</th>\n",
       "      <td>101.0</td>\n",
       "    </tr>\n",
       "    <tr>\n",
       "      <th>1</th>\n",
       "      <td>100.0</td>\n",
       "    </tr>\n",
       "    <tr>\n",
       "      <th>2</th>\n",
       "      <td>100.0</td>\n",
       "    </tr>\n",
       "    <tr>\n",
       "      <th>3</th>\n",
       "      <td>100.0</td>\n",
       "    </tr>\n",
       "    <tr>\n",
       "      <th>4</th>\n",
       "      <td>103.0</td>\n",
       "    </tr>\n",
       "    <tr>\n",
       "      <th>...</th>\n",
       "      <td>...</td>\n",
       "    </tr>\n",
       "    <tr>\n",
       "      <th>75</th>\n",
       "      <td>102.0</td>\n",
       "    </tr>\n",
       "    <tr>\n",
       "      <th>76</th>\n",
       "      <td>104.0</td>\n",
       "    </tr>\n",
       "    <tr>\n",
       "      <th>77</th>\n",
       "      <td>104.0</td>\n",
       "    </tr>\n",
       "    <tr>\n",
       "      <th>78</th>\n",
       "      <td>102.0</td>\n",
       "    </tr>\n",
       "    <tr>\n",
       "      <th>79</th>\n",
       "      <td>100.0</td>\n",
       "    </tr>\n",
       "  </tbody>\n",
       "</table>\n",
       "<p>80 rows × 1 columns</p>\n",
       "</div>"
      ],
      "text/plain": [
       "    fever\n",
       "0   101.0\n",
       "1   100.0\n",
       "2   100.0\n",
       "3   100.0\n",
       "4   103.0\n",
       "..    ...\n",
       "75  102.0\n",
       "76  104.0\n",
       "77  104.0\n",
       "78  102.0\n",
       "79  100.0\n",
       "\n",
       "[80 rows x 1 columns]"
      ]
     },
     "execution_count": 44,
     "metadata": {},
     "output_type": "execute_result"
    }
   ],
   "source": [
    "from sklearn.impute import SimpleImputer\n",
    "imp_mean = SimpleImputer(missing_values=np.nan, strategy='mean')\n",
    "dabbu = imp_mean.fit_transform(X_train[['fever']])\n",
    "pd.DataFrame(dabbu,columns=['fever'])\n"
   ]
  },
  {
   "cell_type": "code",
   "execution_count": 38,
   "metadata": {},
   "outputs": [
    {
     "data": {
      "text/plain": [
       "numpy.ndarray"
      ]
     },
     "execution_count": 38,
     "metadata": {},
     "output_type": "execute_result"
    }
   ],
   "source": [
    "type(dabbu)"
   ]
  },
  {
   "cell_type": "code",
   "execution_count": 39,
   "metadata": {},
   "outputs": [
    {
     "data": {
      "text/plain": [
       "np.False_"
      ]
     },
     "execution_count": 39,
     "metadata": {},
     "output_type": "execute_result"
    }
   ],
   "source": [
    "np.isnan(dabbu).any()"
   ]
  },
  {
   "cell_type": "code",
   "execution_count": null,
   "metadata": {},
   "outputs": [],
   "source": []
  },
  {
   "cell_type": "code",
   "execution_count": null,
   "metadata": {},
   "outputs": [],
   "source": []
  },
  {
   "cell_type": "code",
   "execution_count": null,
   "metadata": {},
   "outputs": [],
   "source": []
  },
  {
   "cell_type": "code",
   "execution_count": null,
   "metadata": {},
   "outputs": [],
   "source": []
  },
  {
   "cell_type": "code",
   "execution_count": null,
   "metadata": {},
   "outputs": [],
   "source": []
  },
  {
   "cell_type": "code",
   "execution_count": null,
   "metadata": {},
   "outputs": [],
   "source": []
  },
  {
   "cell_type": "code",
   "execution_count": null,
   "metadata": {},
   "outputs": [],
   "source": []
  },
  {
   "cell_type": "code",
   "execution_count": null,
   "metadata": {},
   "outputs": [],
   "source": []
  },
  {
   "cell_type": "code",
   "execution_count": 4,
   "metadata": {},
   "outputs": [
    {
     "data": {
      "text/html": [
       "<div>\n",
       "<style scoped>\n",
       "    .dataframe tbody tr th:only-of-type {\n",
       "        vertical-align: middle;\n",
       "    }\n",
       "\n",
       "    .dataframe tbody tr th {\n",
       "        vertical-align: top;\n",
       "    }\n",
       "\n",
       "    .dataframe thead th {\n",
       "        text-align: right;\n",
       "    }\n",
       "</style>\n",
       "<table border=\"1\" class=\"dataframe\">\n",
       "  <thead>\n",
       "    <tr style=\"text-align: right;\">\n",
       "      <th></th>\n",
       "      <th>age</th>\n",
       "      <th>gender</th>\n",
       "      <th>fever</th>\n",
       "      <th>cough</th>\n",
       "      <th>city</th>\n",
       "      <th>has_covid</th>\n",
       "    </tr>\n",
       "  </thead>\n",
       "  <tbody>\n",
       "    <tr>\n",
       "      <th>0</th>\n",
       "      <td>60</td>\n",
       "      <td>Male</td>\n",
       "      <td>103.0</td>\n",
       "      <td>Mild</td>\n",
       "      <td>Kolkata</td>\n",
       "      <td>No</td>\n",
       "    </tr>\n",
       "    <tr>\n",
       "      <th>1</th>\n",
       "      <td>27</td>\n",
       "      <td>Male</td>\n",
       "      <td>100.0</td>\n",
       "      <td>Mild</td>\n",
       "      <td>Delhi</td>\n",
       "      <td>Yes</td>\n",
       "    </tr>\n",
       "    <tr>\n",
       "      <th>2</th>\n",
       "      <td>42</td>\n",
       "      <td>Male</td>\n",
       "      <td>101.0</td>\n",
       "      <td>Mild</td>\n",
       "      <td>Delhi</td>\n",
       "      <td>No</td>\n",
       "    </tr>\n",
       "    <tr>\n",
       "      <th>3</th>\n",
       "      <td>31</td>\n",
       "      <td>Female</td>\n",
       "      <td>98.0</td>\n",
       "      <td>Mild</td>\n",
       "      <td>Kolkata</td>\n",
       "      <td>No</td>\n",
       "    </tr>\n",
       "    <tr>\n",
       "      <th>4</th>\n",
       "      <td>65</td>\n",
       "      <td>Female</td>\n",
       "      <td>101.0</td>\n",
       "      <td>Mild</td>\n",
       "      <td>Mumbai</td>\n",
       "      <td>No</td>\n",
       "    </tr>\n",
       "  </tbody>\n",
       "</table>\n",
       "</div>"
      ],
      "text/plain": [
       "   age  gender  fever cough     city has_covid\n",
       "0   60    Male  103.0  Mild  Kolkata        No\n",
       "1   27    Male  100.0  Mild    Delhi       Yes\n",
       "2   42    Male  101.0  Mild    Delhi        No\n",
       "3   31  Female   98.0  Mild  Kolkata        No\n",
       "4   65  Female  101.0  Mild   Mumbai        No"
      ]
     },
     "execution_count": 4,
     "metadata": {},
     "output_type": "execute_result"
    }
   ],
   "source": [
    "df.head()"
   ]
  },
  {
   "cell_type": "code",
   "execution_count": 34,
   "metadata": {},
   "outputs": [
    {
     "data": {
      "text/plain": [
       "fever\n",
       "101.0    17\n",
       "98.0     17\n",
       "104.0    14\n",
       "100.0    13\n",
       "99.0     10\n",
       "102.0    10\n",
       "103.0     9\n",
       "Name: count, dtype: int64"
      ]
     },
     "execution_count": 34,
     "metadata": {},
     "output_type": "execute_result"
    }
   ],
   "source": [
    "df['fever'].value_counts()"
   ]
  },
  {
   "cell_type": "markdown",
   "metadata": {},
   "source": [
    "arr1 = np.array([1,2,3,4,5,6])\n"
   ]
  },
  {
   "cell_type": "markdown",
   "metadata": {},
   "source": [
    "The line of code df.isnull().sum() is a common operation in data preprocessing, particularly when dealing with missing data in a DataFrame. This line performs two main actions: detecting missing values and then summing them up.\n",
    "\n",
    "First, the isnull() method is called on the DataFrame df. This method returns a DataFrame of the same shape as df, but with boolean values indicating the presence of missing values (NA values). Each element in this boolean DataFrame is True if the corresponding element in df is missing, and False otherwise.\n",
    "\n",
    "Next, the sum() method is called on this boolean DataFrame. The sum() method calculates the sum of True values for each column, effectively counting the number of missing values in each column of the original DataFrame df."
   ]
  },
  {
   "cell_type": "code",
   "execution_count": 35,
   "metadata": {},
   "outputs": [
    {
     "data": {
      "text/plain": [
       "age           0\n",
       "gender        0\n",
       "fever        10\n",
       "cough         0\n",
       "city          0\n",
       "has_covid     0\n",
       "dtype: int64"
      ]
     },
     "execution_count": 35,
     "metadata": {},
     "output_type": "execute_result"
    }
   ],
   "source": [
    "df.isnull().sum()"
   ]
  },
  {
   "cell_type": "markdown",
   "metadata": {},
   "source": [
    "The line of code [`df.drop(columns=['has_covid'])`](command:_github.copilot.openSymbolFromReferences?%5B%22df.drop(columns%3D%5B'has_covid'%5D)%22%2C%5B%7B%22uri%22%3A%7B%22%24mid%22%3A1%2C%22fsPath%22%3A%22%2FUsers%2Fp0a0221%2FDownloads%2Fcampusx-notes%2F100-days-of-machine-learning%2Fday28-column-transformer%2Fday28.ipynb%22%2C%22external%22%3A%22vscode-notebook-cell%3A%2FUsers%2Fp0a0221%2FDownloads%2Fcampusx-notes%2F100-days-of-machine-learning%2Fday28-column-transformer%2Fday28.ipynb%23X11sZmlsZQ%253D%253D%22%2C%22path%22%3A%22%2FUsers%2Fp0a0221%2FDownloads%2Fcampusx-notes%2F100-days-of-machine-learning%2Fday28-column-transformer%2Fday28.ipynb%22%2C%22scheme%22%3A%22vscode-notebook-cell%22%2C%22fragment%22%3A%22X11sZmlsZQ%3D%3D%22%7D%2C%22pos%22%3A%7B%22line%22%3A0%2C%22character%22%3A0%7D%7D%5D%5D \"Go to definition\") is a method call on a DataFrame object named [`df`](command:_github.copilot.openSymbolFromReferences?%5B%22df%22%2C%5B%7B%22uri%22%3A%7B%22%24mid%22%3A1%2C%22fsPath%22%3A%22%2FUsers%2Fp0a0221%2FDownloads%2Fcampusx-notes%2F100-days-of-machine-learning%2Fday28-column-transformer%2Fday28.ipynb%22%2C%22external%22%3A%22vscode-notebook-cell%3A%2FUsers%2Fp0a0221%2FDownloads%2Fcampusx-notes%2F100-days-of-machine-learning%2Fday28-column-transformer%2Fday28.ipynb%23X11sZmlsZQ%253D%253D%22%2C%22path%22%3A%22%2FUsers%2Fp0a0221%2FDownloads%2Fcampusx-notes%2F100-days-of-machine-learning%2Fday28-column-transformer%2Fday28.ipynb%22%2C%22scheme%22%3A%22vscode-notebook-cell%22%2C%22fragment%22%3A%22X11sZmlsZQ%3D%3D%22%7D%2C%22pos%22%3A%7B%22line%22%3A0%2C%22character%22%3A0%7D%7D%5D%5D \"Go to definition\"). This method is used to remove the column named 'has_covid' from the DataFrame.\n",
    "\n",
    "The [`drop`](command:_github.copilot.openSymbolFromReferences?%5B%22drop%22%2C%5B%7B%22uri%22%3A%7B%22%24mid%22%3A1%2C%22fsPath%22%3A%22%2FUsers%2Fp0a0221%2F.vscode%2Fextensions%2Fms-python.vscode-pylance-2024.8.2%2Fdist%2Fbundled%2Fstubs%2Fpandas%2Fcore%2Fframe.pyi%22%2C%22external%22%3A%22file%3A%2F%2F%2FUsers%2Fp0a0221%2F.vscode%2Fextensions%2Fms-python.vscode-pylance-2024.8.2%2Fdist%2Fbundled%2Fstubs%2Fpandas%2Fcore%2Fframe.pyi%22%2C%22path%22%3A%22%2FUsers%2Fp0a0221%2F.vscode%2Fextensions%2Fms-python.vscode-pylance-2024.8.2%2Fdist%2Fbundled%2Fstubs%2Fpandas%2Fcore%2Fframe.pyi%22%2C%22scheme%22%3A%22file%22%7D%2C%22pos%22%3A%7B%22line%22%3A0%2C%22character%22%3A0%7D%7D%5D%5D \"Go to definition\") method in pandas is versatile and can be used to drop rows or columns from a DataFrame. In this case, the [`columns`](command:_github.copilot.openSymbolFromReferences?%5B%22columns%22%2C%5B%7B%22uri%22%3A%7B%22%24mid%22%3A1%2C%22fsPath%22%3A%22%2FUsers%2Fp0a0221%2FDownloads%2Fcampusx-notes%2F100-days-of-machine-learning%2Fday28-column-transformer%2Fday28.ipynb%22%2C%22external%22%3A%22vscode-notebook-cell%3A%2FUsers%2Fp0a0221%2FDownloads%2Fcampusx-notes%2F100-days-of-machine-learning%2Fday28-column-transformer%2Fday28.ipynb%23W5sZmlsZQ%253D%253D%22%2C%22path%22%3A%22%2FUsers%2Fp0a0221%2FDownloads%2Fcampusx-notes%2F100-days-of-machine-learning%2Fday28-column-transformer%2Fday28.ipynb%22%2C%22scheme%22%3A%22vscode-notebook-cell%22%2C%22fragment%22%3A%22W5sZmlsZQ%3D%3D%22%7D%2C%22pos%22%3A%7B%22line%22%3A1%2C%22character%22%3A57%7D%7D%5D%5D \"Go to definition\") parameter is specified with a list containing the single column name 'has_covid'. This tells pandas to remove this column from the DataFrame.\n",
    "\n",
    "By default, the [`drop`](command:_github.copilot.openSymbolFromReferences?%5B%22drop%22%2C%5B%7B%22uri%22%3A%7B%22%24mid%22%3A1%2C%22fsPath%22%3A%22%2FUsers%2Fp0a0221%2F.vscode%2Fextensions%2Fms-python.vscode-pylance-2024.8.2%2Fdist%2Fbundled%2Fstubs%2Fpandas%2Fcore%2Fframe.pyi%22%2C%22external%22%3A%22file%3A%2F%2F%2FUsers%2Fp0a0221%2F.vscode%2Fextensions%2Fms-python.vscode-pylance-2024.8.2%2Fdist%2Fbundled%2Fstubs%2Fpandas%2Fcore%2Fframe.pyi%22%2C%22path%22%3A%22%2FUsers%2Fp0a0221%2F.vscode%2Fextensions%2Fms-python.vscode-pylance-2024.8.2%2Fdist%2Fbundled%2Fstubs%2Fpandas%2Fcore%2Fframe.pyi%22%2C%22scheme%22%3A%22file%22%7D%2C%22pos%22%3A%7B%22line%22%3A0%2C%22character%22%3A0%7D%7D%5D%5D \"Go to definition\") method returns a new DataFrame with the specified column removed, leaving the original DataFrame unchanged. If you want to modify the original DataFrame in place, you would need to set the `inplace` parameter to `True`.\n",
    "\n",
    "In summary, this line of code is used to remove the 'has_covid' column from the DataFrame [`df`](command:_github.copilot.openSymbolFromReferences?%5B%22df%22%2C%5B%7B%22uri%22%3A%7B%22%24mid%22%3A1%2C%22fsPath%22%3A%22%2FUsers%2Fp0a0221%2FDownloads%2Fcampusx-notes%2F100-days-of-machine-learning%2Fday28-column-transformer%2Fday28.ipynb%22%2C%22external%22%3A%22vscode-notebook-cell%3A%2FUsers%2Fp0a0221%2FDownloads%2Fcampusx-notes%2F100-days-of-machine-learning%2Fday28-column-transformer%2Fday28.ipynb%23X11sZmlsZQ%253D%253D%22%2C%22path%22%3A%22%2FUsers%2Fp0a0221%2FDownloads%2Fcampusx-notes%2F100-days-of-machine-learning%2Fday28-column-transformer%2Fday28.ipynb%22%2C%22scheme%22%3A%22vscode-notebook-cell%22%2C%22fragment%22%3A%22X11sZmlsZQ%3D%3D%22%7D%2C%22pos%22%3A%7B%22line%22%3A0%2C%22character%22%3A0%7D%7D%5D%5D \"Go to definition\"). This is useful for data preprocessing, especially when certain columns are no longer needed for analysis or modeling."
   ]
  },
  {
   "cell_type": "code",
   "execution_count": 36,
   "metadata": {},
   "outputs": [
    {
     "name": "stdout",
     "output_type": "stream",
     "text": [
      "X_train: [[ 9 10]\n",
      " [ 5  6]\n",
      " [ 1  2]\n",
      " [ 7  8]]\n",
      "X_test: [[3 4]]\n",
      "y_train: [1 0 0 1]\n",
      "y_test: [1]\n"
     ]
    }
   ],
   "source": [
    "import numpy as np\n",
    "from sklearn.model_selection import train_test_split\n",
    "\n",
    "# Maan lo ye humara data hai\n",
    "X = np.array([[1, 2], [3, 4], [5, 6], [7, 8], [9, 10]])\n",
    "y = np.array([0, 1, 0, 1, 1])\n",
    "\n",
    "# Ab hum data ko split karenge\n",
    "X_train, X_test, y_train, y_test = train_test_split(X, y, test_size=0.2, random_state=42)\n",
    "\n",
    "print(\"X_train:\", X_train)\n",
    "print(\"X_test:\", X_test)\n",
    "print(\"y_train:\", y_train)\n",
    "print(\"y_test:\", y_test)"
   ]
  },
  {
   "cell_type": "code",
   "execution_count": 37,
   "metadata": {},
   "outputs": [],
   "source": [
    "from sklearn.model_selection import train_test_split\n",
    "X_train,X_test,y_train,y_test = train_test_split(df.drop(columns=['has_covid']),df['has_covid'],\n",
    "                                                test_size=0.2)"
   ]
  },
  {
   "cell_type": "code",
   "execution_count": 38,
   "metadata": {},
   "outputs": [
    {
     "data": {
      "text/html": [
       "<div>\n",
       "<style scoped>\n",
       "    .dataframe tbody tr th:only-of-type {\n",
       "        vertical-align: middle;\n",
       "    }\n",
       "\n",
       "    .dataframe tbody tr th {\n",
       "        vertical-align: top;\n",
       "    }\n",
       "\n",
       "    .dataframe thead th {\n",
       "        text-align: right;\n",
       "    }\n",
       "</style>\n",
       "<table border=\"1\" class=\"dataframe\">\n",
       "  <thead>\n",
       "    <tr style=\"text-align: right;\">\n",
       "      <th></th>\n",
       "      <th>age</th>\n",
       "      <th>gender</th>\n",
       "      <th>fever</th>\n",
       "      <th>cough</th>\n",
       "      <th>city</th>\n",
       "    </tr>\n",
       "  </thead>\n",
       "  <tbody>\n",
       "    <tr>\n",
       "      <th>61</th>\n",
       "      <td>81</td>\n",
       "      <td>Female</td>\n",
       "      <td>98.0</td>\n",
       "      <td>Strong</td>\n",
       "      <td>Mumbai</td>\n",
       "    </tr>\n",
       "    <tr>\n",
       "      <th>39</th>\n",
       "      <td>50</td>\n",
       "      <td>Female</td>\n",
       "      <td>103.0</td>\n",
       "      <td>Mild</td>\n",
       "      <td>Kolkata</td>\n",
       "    </tr>\n",
       "    <tr>\n",
       "      <th>37</th>\n",
       "      <td>55</td>\n",
       "      <td>Male</td>\n",
       "      <td>100.0</td>\n",
       "      <td>Mild</td>\n",
       "      <td>Kolkata</td>\n",
       "    </tr>\n",
       "    <tr>\n",
       "      <th>84</th>\n",
       "      <td>69</td>\n",
       "      <td>Female</td>\n",
       "      <td>98.0</td>\n",
       "      <td>Strong</td>\n",
       "      <td>Mumbai</td>\n",
       "    </tr>\n",
       "    <tr>\n",
       "      <th>9</th>\n",
       "      <td>64</td>\n",
       "      <td>Female</td>\n",
       "      <td>101.0</td>\n",
       "      <td>Mild</td>\n",
       "      <td>Delhi</td>\n",
       "    </tr>\n",
       "    <tr>\n",
       "      <th>...</th>\n",
       "      <td>...</td>\n",
       "      <td>...</td>\n",
       "      <td>...</td>\n",
       "      <td>...</td>\n",
       "      <td>...</td>\n",
       "    </tr>\n",
       "    <tr>\n",
       "      <th>10</th>\n",
       "      <td>75</td>\n",
       "      <td>Female</td>\n",
       "      <td>NaN</td>\n",
       "      <td>Mild</td>\n",
       "      <td>Delhi</td>\n",
       "    </tr>\n",
       "    <tr>\n",
       "      <th>57</th>\n",
       "      <td>49</td>\n",
       "      <td>Female</td>\n",
       "      <td>99.0</td>\n",
       "      <td>Strong</td>\n",
       "      <td>Bangalore</td>\n",
       "    </tr>\n",
       "    <tr>\n",
       "      <th>80</th>\n",
       "      <td>14</td>\n",
       "      <td>Female</td>\n",
       "      <td>99.0</td>\n",
       "      <td>Mild</td>\n",
       "      <td>Mumbai</td>\n",
       "    </tr>\n",
       "    <tr>\n",
       "      <th>0</th>\n",
       "      <td>60</td>\n",
       "      <td>Male</td>\n",
       "      <td>103.0</td>\n",
       "      <td>Mild</td>\n",
       "      <td>Kolkata</td>\n",
       "    </tr>\n",
       "    <tr>\n",
       "      <th>22</th>\n",
       "      <td>71</td>\n",
       "      <td>Female</td>\n",
       "      <td>98.0</td>\n",
       "      <td>Strong</td>\n",
       "      <td>Kolkata</td>\n",
       "    </tr>\n",
       "  </tbody>\n",
       "</table>\n",
       "<p>80 rows × 5 columns</p>\n",
       "</div>"
      ],
      "text/plain": [
       "    age  gender  fever   cough       city\n",
       "61   81  Female   98.0  Strong     Mumbai\n",
       "39   50  Female  103.0    Mild    Kolkata\n",
       "37   55    Male  100.0    Mild    Kolkata\n",
       "84   69  Female   98.0  Strong     Mumbai\n",
       "9    64  Female  101.0    Mild      Delhi\n",
       "..  ...     ...    ...     ...        ...\n",
       "10   75  Female    NaN    Mild      Delhi\n",
       "57   49  Female   99.0  Strong  Bangalore\n",
       "80   14  Female   99.0    Mild     Mumbai\n",
       "0    60    Male  103.0    Mild    Kolkata\n",
       "22   71  Female   98.0  Strong    Kolkata\n",
       "\n",
       "[80 rows x 5 columns]"
      ]
     },
     "execution_count": 38,
     "metadata": {},
     "output_type": "execute_result"
    }
   ],
   "source": [
    "X_train"
   ]
  },
  {
   "cell_type": "markdown",
   "metadata": {},
   "source": [
    "## 1. Aam Zindagi"
   ]
  },
  {
   "cell_type": "markdown",
   "metadata": {},
   "source": [
    "The line of code [`si = SimpleImputer()`](command:_github.copilot.openSymbolFromReferences?%5B%22si%20%3D%20SimpleImputer()%22%2C%5B%7B%22uri%22%3A%7B%22%24mid%22%3A1%2C%22fsPath%22%3A%22%2FUsers%2Fp0a0221%2FDownloads%2Fcampusx-notes%2F100-days-of-machine-learning%2Fday28-column-transformer%2Fday28.ipynb%22%2C%22external%22%3A%22vscode-notebook-cell%3A%2FUsers%2Fp0a0221%2FDownloads%2Fcampusx-notes%2F100-days-of-machine-learning%2Fday28-column-transformer%2Fday28.ipynb%23X11sZmlsZQ%253D%253D%22%2C%22path%22%3A%22%2FUsers%2Fp0a0221%2FDownloads%2Fcampusx-notes%2F100-days-of-machine-learning%2Fday28-column-transformer%2Fday28.ipynb%22%2C%22scheme%22%3A%22vscode-notebook-cell%22%2C%22fragment%22%3A%22X11sZmlsZQ%3D%3D%22%7D%2C%22pos%22%3A%7B%22line%22%3A1%2C%22character%22%3A0%7D%7D%5D%5D \"Go to definition\") is creating an instance of the [`SimpleImputer`](command:_github.copilot.openSymbolFromReferences?%5B%22SimpleImputer%22%2C%5B%7B%22uri%22%3A%7B%22%24mid%22%3A1%2C%22fsPath%22%3A%22%2FUsers%2Fp0a0221%2F.vscode%2Fextensions%2Fms-python.vscode-pylance-2024.8.2%2Fdist%2Fbundled%2Fstubs%2Fsklearn%2Fimpute%2F_base.pyi%22%2C%22external%22%3A%22file%3A%2F%2F%2FUsers%2Fp0a0221%2F.vscode%2Fextensions%2Fms-python.vscode-pylance-2024.8.2%2Fdist%2Fbundled%2Fstubs%2Fsklearn%2Fimpute%2F_base.pyi%22%2C%22path%22%3A%22%2FUsers%2Fp0a0221%2F.vscode%2Fextensions%2Fms-python.vscode-pylance-2024.8.2%2Fdist%2Fbundled%2Fstubs%2Fsklearn%2Fimpute%2F_base.pyi%22%2C%22scheme%22%3A%22file%22%7D%2C%22pos%22%3A%7B%22line%22%3A37%2C%22character%22%3A6%7D%7D%2C%7B%22uri%22%3A%7B%22%24mid%22%3A1%2C%22fsPath%22%3A%22%2FUsers%2Fp0a0221%2FDownloads%2Fcampusx-notes%2F100-days-of-machine-learning%2Fday28-column-transformer%2Fday28.ipynb%22%2C%22external%22%3A%22vscode-notebook-cell%3A%2FUsers%2Fp0a0221%2FDownloads%2Fcampusx-notes%2F100-days-of-machine-learning%2Fday28-column-transformer%2Fday28.ipynb%23X11sZmlsZQ%253D%253D%22%2C%22path%22%3A%22%2FUsers%2Fp0a0221%2FDownloads%2Fcampusx-notes%2F100-days-of-machine-learning%2Fday28-column-transformer%2Fday28.ipynb%22%2C%22scheme%22%3A%22vscode-notebook-cell%22%2C%22fragment%22%3A%22X11sZmlsZQ%3D%3D%22%7D%2C%22pos%22%3A%7B%22line%22%3A1%2C%22character%22%3A5%7D%7D%5D%5D \"Go to definition\") class. The [`SimpleImputer`](command:_github.copilot.openSymbolFromReferences?%5B%22SimpleImputer%22%2C%5B%7B%22uri%22%3A%7B%22%24mid%22%3A1%2C%22fsPath%22%3A%22%2FUsers%2Fp0a0221%2F.vscode%2Fextensions%2Fms-python.vscode-pylance-2024.8.2%2Fdist%2Fbundled%2Fstubs%2Fsklearn%2Fimpute%2F_base.pyi%22%2C%22external%22%3A%22file%3A%2F%2F%2FUsers%2Fp0a0221%2F.vscode%2Fextensions%2Fms-python.vscode-pylance-2024.8.2%2Fdist%2Fbundled%2Fstubs%2Fsklearn%2Fimpute%2F_base.pyi%22%2C%22path%22%3A%22%2FUsers%2Fp0a0221%2F.vscode%2Fextensions%2Fms-python.vscode-pylance-2024.8.2%2Fdist%2Fbundled%2Fstubs%2Fsklearn%2Fimpute%2F_base.pyi%22%2C%22scheme%22%3A%22file%22%7D%2C%22pos%22%3A%7B%22line%22%3A37%2C%22character%22%3A6%7D%7D%2C%7B%22uri%22%3A%7B%22%24mid%22%3A1%2C%22fsPath%22%3A%22%2FUsers%2Fp0a0221%2FDownloads%2Fcampusx-notes%2F100-days-of-machine-learning%2Fday28-column-transformer%2Fday28.ipynb%22%2C%22external%22%3A%22vscode-notebook-cell%3A%2FUsers%2Fp0a0221%2FDownloads%2Fcampusx-notes%2F100-days-of-machine-learning%2Fday28-column-transformer%2Fday28.ipynb%23X11sZmlsZQ%253D%253D%22%2C%22path%22%3A%22%2FUsers%2Fp0a0221%2FDownloads%2Fcampusx-notes%2F100-days-of-machine-learning%2Fday28-column-transformer%2Fday28.ipynb%22%2C%22scheme%22%3A%22vscode-notebook-cell%22%2C%22fragment%22%3A%22X11sZmlsZQ%3D%3D%22%7D%2C%22pos%22%3A%7B%22line%22%3A1%2C%22character%22%3A5%7D%7D%5D%5D \"Go to definition\") class is designed to handle missing data in a dataset by replacing missing values with a specified strategy. This is a common preprocessing step in machine learning workflows to ensure that the dataset is complete and can be used effectively by machine learning algorithms.\n",
    "\n",
    "By default, the [`SimpleImputer`](command:_github.copilot.openSymbolFromReferences?%5B%22SimpleImputer%22%2C%5B%7B%22uri%22%3A%7B%22%24mid%22%3A1%2C%22fsPath%22%3A%22%2FUsers%2Fp0a0221%2F.vscode%2Fextensions%2Fms-python.vscode-pylance-2024.8.2%2Fdist%2Fbundled%2Fstubs%2Fsklearn%2Fimpute%2F_base.pyi%22%2C%22external%22%3A%22file%3A%2F%2F%2FUsers%2Fp0a0221%2F.vscode%2Fextensions%2Fms-python.vscode-pylance-2024.8.2%2Fdist%2Fbundled%2Fstubs%2Fsklearn%2Fimpute%2F_base.pyi%22%2C%22path%22%3A%22%2FUsers%2Fp0a0221%2F.vscode%2Fextensions%2Fms-python.vscode-pylance-2024.8.2%2Fdist%2Fbundled%2Fstubs%2Fsklearn%2Fimpute%2F_base.pyi%22%2C%22scheme%22%3A%22file%22%7D%2C%22pos%22%3A%7B%22line%22%3A37%2C%22character%22%3A6%7D%7D%2C%7B%22uri%22%3A%7B%22%24mid%22%3A1%2C%22fsPath%22%3A%22%2FUsers%2Fp0a0221%2FDownloads%2Fcampusx-notes%2F100-days-of-machine-learning%2Fday28-column-transformer%2Fday28.ipynb%22%2C%22external%22%3A%22vscode-notebook-cell%3A%2FUsers%2Fp0a0221%2FDownloads%2Fcampusx-notes%2F100-days-of-machine-learning%2Fday28-column-transformer%2Fday28.ipynb%23X11sZmlsZQ%253D%253D%22%2C%22path%22%3A%22%2FUsers%2Fp0a0221%2FDownloads%2Fcampusx-notes%2F100-days-of-machine-learning%2Fday28-column-transformer%2Fday28.ipynb%22%2C%22scheme%22%3A%22vscode-notebook-cell%22%2C%22fragment%22%3A%22X11sZmlsZQ%3D%3D%22%7D%2C%22pos%22%3A%7B%22line%22%3A1%2C%22character%22%3A5%7D%7D%5D%5D \"Go to definition\") class replaces missing values with the mean of the column in which the missing value is located. However, it can be configured to use other strategies such as replacing missing values with the median, the most frequent value, or a constant value specified by the user.\n",
    "\n",
    "The [`SimpleImputer`](command:_github.copilot.openSymbolFromReferences?%5B%22SimpleImputer%22%2C%5B%7B%22uri%22%3A%7B%22%24mid%22%3A1%2C%22fsPath%22%3A%22%2FUsers%2Fp0a0221%2F.vscode%2Fextensions%2Fms-python.vscode-pylance-2024.8.2%2Fdist%2Fbundled%2Fstubs%2Fsklearn%2Fimpute%2F_base.pyi%22%2C%22external%22%3A%22file%3A%2F%2F%2FUsers%2Fp0a0221%2F.vscode%2Fextensions%2Fms-python.vscode-pylance-2024.8.2%2Fdist%2Fbundled%2Fstubs%2Fsklearn%2Fimpute%2F_base.pyi%22%2C%22path%22%3A%22%2FUsers%2Fp0a0221%2F.vscode%2Fextensions%2Fms-python.vscode-pylance-2024.8.2%2Fdist%2Fbundled%2Fstubs%2Fsklearn%2Fimpute%2F_base.pyi%22%2C%22scheme%22%3A%22file%22%7D%2C%22pos%22%3A%7B%22line%22%3A37%2C%22character%22%3A6%7D%7D%2C%7B%22uri%22%3A%7B%22%24mid%22%3A1%2C%22fsPath%22%3A%22%2FUsers%2Fp0a0221%2FDownloads%2Fcampusx-notes%2F100-days-of-machine-learning%2Fday28-column-transformer%2Fday28.ipynb%22%2C%22external%22%3A%22vscode-notebook-cell%3A%2FUsers%2Fp0a0221%2FDownloads%2Fcampusx-notes%2F100-days-of-machine-learning%2Fday28-column-transformer%2Fday28.ipynb%23X11sZmlsZQ%253D%253D%22%2C%22path%22%3A%22%2FUsers%2Fp0a0221%2FDownloads%2Fcampusx-notes%2F100-days-of-machine-learning%2Fday28-column-transformer%2Fday28.ipynb%22%2C%22scheme%22%3A%22vscode-notebook-cell%22%2C%22fragment%22%3A%22X11sZmlsZQ%3D%3D%22%7D%2C%22pos%22%3A%7B%22line%22%3A1%2C%22character%22%3A5%7D%7D%5D%5D \"Go to definition\") class inherits from `_BaseImputer` and includes several attributes and methods. Key attributes include `feature_names_in_`, which stores the names of the features seen during the fit, `n_features_in_`, which indicates the number of features seen during the fit, and `statistics_`, which holds the statistics used to impute the missing values. The class also has methods such as `fit`, which learns the imputation strategy from the data, `transform`, which applies the learned imputation strategy to the data, and `inverse_transform`, which can reverse the imputation process if needed.\n",
    "\n",
    "In the provided code, [`si`](command:_github.copilot.openSymbolFromReferences?%5B%22si%22%2C%5B%7B%22uri%22%3A%7B%22%24mid%22%3A1%2C%22fsPath%22%3A%22%2FUsers%2Fp0a0221%2FDownloads%2Fcampusx-notes%2F100-days-of-machine-learning%2Fday28-column-transformer%2Fday28.ipynb%22%2C%22external%22%3A%22vscode-notebook-cell%3A%2FUsers%2Fp0a0221%2FDownloads%2Fcampusx-notes%2F100-days-of-machine-learning%2Fday28-column-transformer%2Fday28.ipynb%23X11sZmlsZQ%253D%253D%22%2C%22path%22%3A%22%2FUsers%2Fp0a0221%2FDownloads%2Fcampusx-notes%2F100-days-of-machine-learning%2Fday28-column-transformer%2Fday28.ipynb%22%2C%22scheme%22%3A%22vscode-notebook-cell%22%2C%22fragment%22%3A%22X11sZmlsZQ%3D%3D%22%7D%2C%22pos%22%3A%7B%22line%22%3A1%2C%22character%22%3A0%7D%7D%5D%5D \"Go to definition\") is now an instance of [`SimpleImputer`](command:_github.copilot.openSymbolFromReferences?%5B%22SimpleImputer%22%2C%5B%7B%22uri%22%3A%7B%22%24mid%22%3A1%2C%22fsPath%22%3A%22%2FUsers%2Fp0a0221%2F.vscode%2Fextensions%2Fms-python.vscode-pylance-2024.8.2%2Fdist%2Fbundled%2Fstubs%2Fsklearn%2Fimpute%2F_base.pyi%22%2C%22external%22%3A%22file%3A%2F%2F%2FUsers%2Fp0a0221%2F.vscode%2Fextensions%2Fms-python.vscode-pylance-2024.8.2%2Fdist%2Fbundled%2Fstubs%2Fsklearn%2Fimpute%2F_base.pyi%22%2C%22path%22%3A%22%2FUsers%2Fp0a0221%2F.vscode%2Fextensions%2Fms-python.vscode-pylance-2024.8.2%2Fdist%2Fbundled%2Fstubs%2Fsklearn%2Fimpute%2F_base.pyi%22%2C%22scheme%22%3A%22file%22%7D%2C%22pos%22%3A%7B%22line%22%3A37%2C%22character%22%3A6%7D%7D%2C%7B%22uri%22%3A%7B%22%24mid%22%3A1%2C%22fsPath%22%3A%22%2FUsers%2Fp0a0221%2FDownloads%2Fcampusx-notes%2F100-days-of-machine-learning%2Fday28-column-transformer%2Fday28.ipynb%22%2C%22external%22%3A%22vscode-notebook-cell%3A%2FUsers%2Fp0a0221%2FDownloads%2Fcampusx-notes%2F100-days-of-machine-learning%2Fday28-column-transformer%2Fday28.ipynb%23X11sZmlsZQ%253D%253D%22%2C%22path%22%3A%22%2FUsers%2Fp0a0221%2FDownloads%2Fcampusx-notes%2F100-days-of-machine-learning%2Fday28-column-transformer%2Fday28.ipynb%22%2C%22scheme%22%3A%22vscode-notebook-cell%22%2C%22fragment%22%3A%22X11sZmlsZQ%3D%3D%22%7D%2C%22pos%22%3A%7B%22line%22%3A1%2C%22character%22%3A5%7D%7D%5D%5D \"Go to definition\") with default settings. This instance can be used to fit and transform a dataset to handle missing values according to the specified or default strategy. For example, you can call [`si.fit(X_train)`](command:_github.copilot.openSymbolFromReferences?%5B%22si.fit(X_train)%22%2C%5B%7B%22uri%22%3A%7B%22%24mid%22%3A1%2C%22fsPath%22%3A%22%2FUsers%2Fp0a0221%2FDownloads%2Fcampusx-notes%2F100-days-of-machine-learning%2Fday28-column-transformer%2Fday28.ipynb%22%2C%22external%22%3A%22vscode-notebook-cell%3A%2FUsers%2Fp0a0221%2FDownloads%2Fcampusx-notes%2F100-days-of-machine-learning%2Fday28-column-transformer%2Fday28.ipynb%23X11sZmlsZQ%253D%253D%22%2C%22path%22%3A%22%2FUsers%2Fp0a0221%2FDownloads%2Fcampusx-notes%2F100-days-of-machine-learning%2Fday28-column-transformer%2Fday28.ipynb%22%2C%22scheme%22%3A%22vscode-notebook-cell%22%2C%22fragment%22%3A%22X11sZmlsZQ%3D%3D%22%7D%2C%22pos%22%3A%7B%22line%22%3A1%2C%22character%22%3A0%7D%7D%5D%5D \"Go to definition\") to learn the imputation strategy from the training data and then [`si.transform(X_train)`](command:_github.copilot.openSymbolFromReferences?%5B%22si.transform(X_train)%22%2C%5B%7B%22uri%22%3A%7B%22%24mid%22%3A1%2C%22fsPath%22%3A%22%2FUsers%2Fp0a0221%2FDownloads%2Fcampusx-notes%2F100-days-of-machine-learning%2Fday28-column-transformer%2Fday28.ipynb%22%2C%22external%22%3A%22vscode-notebook-cell%3A%2FUsers%2Fp0a0221%2FDownloads%2Fcampusx-notes%2F100-days-of-machine-learning%2Fday28-column-transformer%2Fday28.ipynb%23X11sZmlsZQ%253D%253D%22%2C%22path%22%3A%22%2FUsers%2Fp0a0221%2FDownloads%2Fcampusx-notes%2F100-days-of-machine-learning%2Fday28-column-transformer%2Fday28.ipynb%22%2C%22scheme%22%3A%22vscode-notebook-cell%22%2C%22fragment%22%3A%22X11sZmlsZQ%3D%3D%22%7D%2C%22pos%22%3A%7B%22line%22%3A1%2C%22character%22%3A0%7D%7D%5D%5D \"Go to definition\") to apply the imputation to the training data."
   ]
  },
  {
   "cell_type": "code",
   "execution_count": 39,
   "metadata": {},
   "outputs": [
    {
     "data": {
      "text/plain": [
       "(80, 1)"
      ]
     },
     "execution_count": 39,
     "metadata": {},
     "output_type": "execute_result"
    }
   ],
   "source": [
    "# adding simple imputer to fever col\n",
    "si = SimpleImputer()\n",
    "X_train_fever = si.fit_transform(X_train[['fever']])\n",
    "\n",
    "# also the test data\n",
    "X_test_fever = si.fit_transform(X_test[['fever']])\n",
    "                                 \n",
    "X_train_fever.shape"
   ]
  },
  {
   "cell_type": "code",
   "execution_count": 40,
   "metadata": {},
   "outputs": [
    {
     "data": {
      "text/plain": [
       "(80, 1)"
      ]
     },
     "execution_count": 40,
     "metadata": {},
     "output_type": "execute_result"
    }
   ],
   "source": [
    "# Ordinalencoding -> cough\n",
    "oe = OrdinalEncoder(categories=[['Mild','Strong']])\n",
    "X_train_cough = oe.fit_transform(X_train[['cough']])\n",
    "\n",
    "# also the test data\n",
    "X_test_cough = oe.fit_transform(X_test[['cough']])\n",
    "\n",
    "X_train_cough.shape"
   ]
  },
  {
   "cell_type": "code",
   "execution_count": 53,
   "metadata": {},
   "outputs": [
    {
     "data": {
      "text/plain": [
       "(80, 4)"
      ]
     },
     "execution_count": 53,
     "metadata": {},
     "output_type": "execute_result"
    }
   ],
   "source": [
    "# OneHotEncoding -> gender,city\n",
    "ohe = OneHotEncoder(drop='first')\n",
    "X_train_gender_city = ohe.fit_transform(X_train[['gender','city']])\n",
    "\n",
    "# also the test data\n",
    "X_test_gender_city = ohe.fit_transform(X_test[['gender','city']])\n",
    "\n",
    "X_train_gender_city.shape\n",
    "\n"
   ]
  },
  {
   "cell_type": "code",
   "execution_count": 56,
   "metadata": {},
   "outputs": [],
   "source": [
    "X_train_gender_city_dense = X_train_gender_city.toarray()\n",
    "X_test_gender_city_dense = X_test_gender_city.toarray()\n",
    "\n"
   ]
  },
  {
   "cell_type": "markdown",
   "metadata": {},
   "source": [
    "Yah code X_train data se gender, fever, cough, aur city columns ko hata raha hai. Fir jo baaki data bacha, usko .values ke through ek Numpy array mein convert kar raha hai.\n",
    "\n",
    "Matlab:\n",
    "\n",
    "drop(columns=['gender','fever','cough','city']) – In columns ko data se remove kar diya.\n",
    ".values – Baaki ka data sirf values ke form mein ek Numpy array mein store ho gaya.\n",
    "Yah step useful hota hai jab hum model ko train karte waqt sirf kuch specific features use karna chahte hain aur baaki columns ko ignore karna chahte hain."
   ]
  },
  {
   "cell_type": "code",
   "execution_count": 42,
   "metadata": {},
   "outputs": [
    {
     "data": {
      "text/plain": [
       "(80, 1)"
      ]
     },
     "execution_count": 42,
     "metadata": {},
     "output_type": "execute_result"
    }
   ],
   "source": [
    "# Extracting Age\n",
    "X_train_age = X_train.drop(columns=['gender','fever','cough','city']).values\n",
    "\n",
    "# also the test data\n",
    "X_test_age = X_test.drop(columns=['gender','fever','cough','city']).values\n",
    "\n",
    "X_train_age.shape"
   ]
  },
  {
   "cell_type": "code",
   "execution_count": 43,
   "metadata": {},
   "outputs": [
    {
     "data": {
      "text/plain": [
       "(80, 1)"
      ]
     },
     "execution_count": 43,
     "metadata": {},
     "output_type": "execute_result"
    }
   ],
   "source": [
    "X_train_cough.shape"
   ]
  },
  {
   "cell_type": "code",
   "execution_count": 59,
   "metadata": {},
   "outputs": [
    {
     "data": {
      "text/plain": [
       "(80, 7)"
      ]
     },
     "execution_count": 59,
     "metadata": {},
     "output_type": "execute_result"
    }
   ],
   "source": [
    "X_train_fever = X_train_fever.reshape(-1, 1)\n",
    "X_test_fever = X_test_fever.reshape(-1, 1)\n",
    "\n",
    "X_train_transformed = np.concatenate((X_train_age, X_train_fever, X_train_gender_city_dense, X_train_cough), axis=1)\n",
    "X_test_transformed = np.concatenate((X_test_age, X_test_fever, X_test_gender_city_dense, X_test_cough), axis=1)\n",
    "\n",
    "X_train_transformed.shape"
   ]
  },
  {
   "cell_type": "markdown",
   "metadata": {},
   "source": [
    "## Mentos Zindagi"
   ]
  },
  {
   "cell_type": "code",
   "execution_count": 60,
   "metadata": {},
   "outputs": [],
   "source": [
    "from sklearn.compose import ColumnTransformer"
   ]
  },
  {
   "cell_type": "code",
   "execution_count": 62,
   "metadata": {},
   "outputs": [],
   "source": [
    "transformer = ColumnTransformer(transformers=[\n",
    "    ('tnf1',SimpleImputer(),['fever']),\n",
    "    ('tnf2',OrdinalEncoder(categories=[['Mild','Strong']]),['cough']),\n",
    "    ('tnf3',OneHotEncoder(drop='first'),['gender','city'])\n",
    "],remainder='passthrough')"
   ]
  },
  {
   "cell_type": "code",
   "execution_count": 63,
   "metadata": {},
   "outputs": [
    {
     "data": {
      "text/plain": [
       "(80, 7)"
      ]
     },
     "execution_count": 63,
     "metadata": {},
     "output_type": "execute_result"
    }
   ],
   "source": [
    "transformer.fit_transform(X_train).shape"
   ]
  },
  {
   "cell_type": "code",
   "execution_count": 64,
   "metadata": {},
   "outputs": [
    {
     "data": {
      "text/plain": [
       "(20, 7)"
      ]
     },
     "execution_count": 64,
     "metadata": {},
     "output_type": "execute_result"
    }
   ],
   "source": [
    "transformer.transform(X_test).shape"
   ]
  },
  {
   "cell_type": "code",
   "execution_count": null,
   "metadata": {},
   "outputs": [],
   "source": []
  }
 ],
 "metadata": {
  "kernelspec": {
   "display_name": "my_env",
   "language": "python",
   "name": "python3"
  },
  "language_info": {
   "codemirror_mode": {
    "name": "ipython",
    "version": 3
   },
   "file_extension": ".py",
   "mimetype": "text/x-python",
   "name": "python",
   "nbconvert_exporter": "python",
   "pygments_lexer": "ipython3",
   "version": "3.12.8"
  }
 },
 "nbformat": 4,
 "nbformat_minor": 4
}
